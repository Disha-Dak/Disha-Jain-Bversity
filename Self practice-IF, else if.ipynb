{
 "cells": [
  {
   "cell_type": "code",
   "execution_count": 1,
   "id": "a6694201-d0f3-450e-87be-1bfd57685239",
   "metadata": {},
   "outputs": [
    {
     "name": "stdout",
     "output_type": "stream",
     "text": [
      "Weird\n",
      "Not Weird\n"
     ]
    }
   ],
   "source": [
    "def check_weird(n):\n",
    "    if n % 2 != 0:  # Odd numbers\n",
    "        print(\"Weird\")\n",
    "    elif n % 2 == 0 and n in range(2, 6): \n",
    "        print(\"Not Weird\")\n",
    "    elif n % 2 == 0 and n in range(6, 21):  \n",
    "        print(\"Weird\")\n",
    "    elif n % 2 == 0 and n > 20: \n",
    "        print(\"Not Weird\")\n",
    "\n",
    "\n",
    "check_weird(3) \n",
    "check_weird(24) "
   ]
  },
  {
   "cell_type": "code",
   "execution_count": 3,
   "id": "10506435-605b-439c-ab45-1fb3eac547d3",
   "metadata": {},
   "outputs": [
    {
     "name": "stdin",
     "output_type": "stream",
     "text": [
      "Enter the radius of the circle:  4\n"
     ]
    },
    {
     "name": "stdout",
     "output_type": "stream",
     "text": [
      "The area of the circle is: 50.26544\n"
     ]
    }
   ],
   "source": [
    "def calculate_area(radius):\n",
    "    pi = 3.14159\n",
    "    return pi * radius ** 2\n",
    "\n",
    " \n",
    "\n",
    "# Test the function\n",
    "radius = int(input(\"Enter the radius of the circle: \"))\n",
    "area = calculate_area(radius)\n",
    "print(f\"The area of the circle is: {area}\")"
   ]
  },
  {
   "cell_type": "code",
   "execution_count": 6,
   "id": "e80b2ad8-6277-4654-9373-4cfad0d6e390",
   "metadata": {},
   "outputs": [
    {
     "ename": "TypeError",
     "evalue": "'>' not supported between instances of 'int' and 'NoneType'",
     "output_type": "error",
     "traceback": [
      "\u001b[0;31m---------------------------------------------------------------------------\u001b[0m",
      "\u001b[0;31mTypeError\u001b[0m                                 Traceback (most recent call last)",
      "Cell \u001b[0;32mIn[6], line 12\u001b[0m\n\u001b[1;32m     10\u001b[0m \u001b[38;5;66;03m# Test the function\u001b[39;00m\n\u001b[1;32m     11\u001b[0m nums \u001b[38;5;241m=\u001b[39m [\u001b[38;5;241m10\u001b[39m, \u001b[38;5;241m25\u001b[39m, \u001b[38;5;241m30\u001b[39m, \u001b[38;5;241m5\u001b[39m, \u001b[38;5;241m60\u001b[39m, \u001b[38;5;241m20\u001b[39m]\n\u001b[0;32m---> 12\u001b[0m result \u001b[38;5;241m=\u001b[39m \u001b[43mfind_largest\u001b[49m\u001b[43m(\u001b[49m\u001b[43mnums\u001b[49m\u001b[43m)\u001b[49m\n\u001b[1;32m     13\u001b[0m \u001b[38;5;28mprint\u001b[39m(\u001b[38;5;124mf\u001b[39m\u001b[38;5;124m\"\u001b[39m\u001b[38;5;124mThe largest number is: \u001b[39m\u001b[38;5;132;01m{\u001b[39;00mresult\u001b[38;5;132;01m}\u001b[39;00m\u001b[38;5;124m\"\u001b[39m)\n",
      "Cell \u001b[0;32mIn[6], line 4\u001b[0m, in \u001b[0;36mfind_largest\u001b[0;34m(numbers)\u001b[0m\n\u001b[1;32m      2\u001b[0m largest \u001b[38;5;241m=\u001b[39m \u001b[38;5;28;01mNone\u001b[39;00m\n\u001b[1;32m      3\u001b[0m \u001b[38;5;28;01mfor\u001b[39;00m num \u001b[38;5;129;01min\u001b[39;00m numbers:\n\u001b[0;32m----> 4\u001b[0m     \u001b[38;5;28;01mif\u001b[39;00m \u001b[43mnum\u001b[49m\u001b[43m \u001b[49m\u001b[38;5;241;43m>\u001b[39;49m\u001b[43mlargest\u001b[49m:\n\u001b[1;32m      5\u001b[0m         largest \u001b[38;5;241m=\u001b[39m num\n\u001b[1;32m      6\u001b[0m \u001b[38;5;28;01mreturn\u001b[39;00m largest\n",
      "\u001b[0;31mTypeError\u001b[0m: '>' not supported between instances of 'int' and 'NoneType'"
     ]
    }
   ],
   "source": [
    "def find_largest(numbers):\n",
    "    largest = None\n",
    "    for num in numbers:\n",
    "        if num >largest:\n",
    "            largest = num\n",
    "    return largest\n",
    "#largest(variable) can not be difined by none\n",
    " \n",
    "\n",
    "# Test the function\n",
    "nums = [10, 25, 30, 5, 60, 20]\n",
    "result = find_largest(nums)\n",
    "print(f\"The largest number is: {result}\")"
   ]
  },
  {
   "cell_type": "code",
   "execution_count": 9,
   "id": "2bdf0ad0-b054-4705-b16e-db84ddb5bdb8",
   "metadata": {},
   "outputs": [
    {
     "name": "stdout",
     "output_type": "stream",
     "text": [
      "The largest number is: 60\n"
     ]
    }
   ],
   "source": [
    "def find_largest(numbers):\n",
    "    largest = 10\n",
    "    for num in numbers:\n",
    "        if num >largest:\n",
    "            largest = num\n",
    "    return largest\n",
    "#largest(variable) can not be difined by none\n",
    " \n",
    "\n",
    "# Test the function\n",
    "num = [10, 25, 30, 5, 60, 20]\n",
    "result = find_largest(num)\n",
    "print(f\"The largest number is: {result}\")"
   ]
  },
  {
   "cell_type": "code",
   "execution_count": 10,
   "id": "58489233-0424-49ec-8fa4-22130cccdae0",
   "metadata": {},
   "outputs": [
    {
     "name": "stdin",
     "output_type": "stream",
     "text": [
      "give name Disha\n",
      "give password Disha1234\n"
     ]
    }
   ],
   "source": [
    "name=input(\"give name\")\n",
    "password=input(\"give password\")"
   ]
  },
  {
   "cell_type": "code",
   "execution_count": 12,
   "id": "a56ad0ad-48df-4378-bf70-09ee03bc8544",
   "metadata": {},
   "outputs": [
    {
     "name": "stdout",
     "output_type": "stream",
     "text": [
      "Welcome Disha\n"
     ]
    }
   ],
   "source": [
    "if name == \"Disha\" and password == \"Disha1234\":\n",
    "   print(\"Welcome \" + name)\n",
    "elif name !=\"Disha\":\n",
    "   print(\"Wrong username\")\n",
    "else:\n",
    "   print(\"the password is wrong\")"
   ]
  },
  {
   "cell_type": "code",
   "execution_count": 13,
   "id": "e2ff93c3-bd34-4a5c-9d4e-385a930eeaa0",
   "metadata": {},
   "outputs": [
    {
     "name": "stdout",
     "output_type": "stream",
     "text": [
      "the password is wrong\n"
     ]
    }
   ],
   "source": [
    "if name == \"Disha\" and password != \"Disha1234\":\n",
    "   print(\"Welcome \" + name)\n",
    "elif name !=\"Disha\":\n",
    "   print(\"Wrong username\")\n",
    "else:\n",
    "   print(\"the password is wrong\")"
   ]
  },
  {
   "cell_type": "code",
   "execution_count": 14,
   "id": "696c0222-600c-4744-bd1f-fc80ac20fbb0",
   "metadata": {},
   "outputs": [
    {
     "name": "stdout",
     "output_type": "stream",
     "text": [
      "the password is wrong\n"
     ]
    }
   ],
   "source": [
    "if name == \"Varsha\" and password == \"Disha1234\":\n",
    "   print(\"Welcome \" + name)\n",
    "elif name !=\"Disha\":\n",
    "   print(\"Wrong username\")\n",
    "else:\n",
    "   print(\"the password is wrong\")"
   ]
  },
  {
   "cell_type": "code",
   "execution_count": 15,
   "id": "72138657-a847-499a-a947-cde1de7890c7",
   "metadata": {},
   "outputs": [],
   "source": [
    "gene=\"cancer x\""
   ]
  },
  {
   "cell_type": "code",
   "execution_count": 16,
   "id": "415470d7-19cc-4b36-867d-866ae6901cc9",
   "metadata": {},
   "outputs": [],
   "source": [
    "gene=\"cancer y\""
   ]
  },
  {
   "cell_type": "code",
   "execution_count": 17,
   "id": "138ffad7-8273-4a3c-93c5-826f46326550",
   "metadata": {},
   "outputs": [
    {
     "name": "stdout",
     "output_type": "stream",
     "text": [
      "Okay\n"
     ]
    }
   ],
   "source": [
    "if name != \"cancer x\" and name != \"cancer y\":\n",
    "   print(\"Okay\")\n",
    "elif name==\"cancer y\":\n",
    "   print(\"positive\")\n",
    "else:\n",
    "   print(\"negative\")"
   ]
  },
  {
   "cell_type": "code",
   "execution_count": 18,
   "id": "eceac920-4ed6-4476-825c-e9bdaf92721a",
   "metadata": {},
   "outputs": [
    {
     "name": "stdout",
     "output_type": "stream",
     "text": [
      "negative\n"
     ]
    }
   ],
   "source": [
    "if name == \"cancer x\" and name != \"cancer y\":\n",
    "   print(\"Okay\")\n",
    "elif name==\"cancer y\":\n",
    "   print(\"positive\")\n",
    "else:\n",
    "   print(\"negative\")"
   ]
  },
  {
   "cell_type": "markdown",
   "id": "dc640ac2-6e5b-4851-b9fa-087d50cacab2",
   "metadata": {},
   "source": [
    "# Problem:\n",
    "\n",
    "You are given a list of DNA sequences. Your task is to write a Python program that classifies each DNA sequence based on its GC content:\n",
    "\n",
    "High GC content: GC percentage is greater than 60%.\n",
    "Moderate GC content: GC percentage is between 40% and 60% (inclusive).\n",
    "Low GC content: GC percentage is less than 40%.\n",
    "Task:\n",
    "\n",
    "Write a function that calculates the GC content of a DNA sequence.\n",
    "Use if, elif, and else statements to classify the GC content of each sequence.\n",
    "For each sequence, print whether the GC content is \"High\", \"Moderate\", or \"Low\"\n",
    "sequences = [\n",
    "    \"ATGCCGTAACGT\",\n",
    "    \"ATTTAGGGCTA\",\n",
    "    \"CGCGGCGCGT\"\n",
    "]"
   ]
  },
  {
   "cell_type": "code",
   "execution_count": 23,
   "id": "762a184a-0018-4830-a3a1-c9357961e761",
   "metadata": {},
   "outputs": [
    {
     "name": "stdout",
     "output_type": "stream",
     "text": [
      "Sequence 1: Moderate GC content\n",
      "Sequence 2: Low GC content\n",
      "Sequence 3: High GC content\n"
     ]
    }
   ],
   "source": [
    "# Function to calculate GC content percentage\n",
    "def calculate_gc_content(dna_sequence):\n",
    "    gc_count = dna_sequence.count('G') + dna_sequence.count('C')\n",
    "    return (gc_count / len(dna_sequence)) * 100\n",
    "\n",
    "# Function to classify the GC content\n",
    "def classify_gc_content(sequences):              #Enumerate is a built-in function in python that allows you to keep track of the number of iterations (loops) in a loop. \n",
    "    for i, sequence in enumerate(sequences, 1):         #Used help of gpt-was getting stuck after calculating the gc content  \n",
    "        gc_content = calculate_gc_content(sequence)\n",
    "        \n",
    "        if gc_content > 60:\n",
    "            classification = \"High GC content\"\n",
    "        elif 40 <= gc_content <= 60:\n",
    "            classification = \"Moderate GC content\"\n",
    "        else:\n",
    "            classification = \"Low GC content\"\n",
    "        \n",
    "        print(f\"Sequence {i}: {classification}\")\n",
    "\n",
    "sequences = [\n",
    "    \"ATGCCGTAACGT\",  # 50% GC content\n",
    "    \"ATTTAGGGCTA\",   # 27% GC content\n",
    "    \"CGCGGCGCGT\"     # 90% GC content\n",
    "]\n",
    "\n",
    "classify_gc_content(sequences)\n",
    "\n"
   ]
  },
  {
   "cell_type": "code",
   "execution_count": 29,
   "id": "669b62d8-1f70-4040-b95a-522c7211ce13",
   "metadata": {},
   "outputs": [
    {
     "data": {
      "text/plain": [
       "<function __main__.calculate_gc_content(sequence)>"
      ]
     },
     "execution_count": 29,
     "metadata": {},
     "output_type": "execute_result"
    }
   ],
   "source": [
    "def calculate_gc_content(sequence):\n",
    "    gc_count = sequence.count('G') + sequence.count('C')\n",
    "    return (gc_count / len(dna_sequence)) * 100\n",
    "\n",
    "sequences = [\n",
    "    \"ATGCCGTAACGT\",  # 50% GC content\n",
    "    \"ATTTAGGGCTA\",   # 27% GC content\n",
    "    \"CGCGGCGCGT\"     # 90% GC content\n",
    "]\n",
    "calculate_gc_content"
   ]
  },
  {
   "cell_type": "markdown",
   "id": "5ec43c1a-5c81-4158-882d-50336d0e90c0",
   "metadata": {},
   "source": [
    "# Problem 1: Protein Function Classification\n",
    "Context:\n",
    "\n",
    "Proteins are categorized based on their primary functions into different classes such as enzymes, structural proteins, and transport proteins. You are provided with protein sequences, and each sequence is associated with a specific functional annotation.\n",
    "\n",
    "Problem:\n",
    "\n",
    "Write a Python program that classifies proteins based on their functional annotations using if and elif statements. The functional annotations are provided as follows:\n",
    "\n",
    "Enzyme: Contains the keyword \"ase\".\n",
    "Structural Protein: Contains the keyword \"collagen\" or \"keratin\".\n",
    "Transport Protein: Contains the keyword \"transporter\" or \"channel\".\n",
    "Task:\n",
    "\n",
    "Create a function that classifies each protein sequence based on the keywords provided.\n",
    "Print the classification for each protein sequence.\n",
    "proteins = [\n",
    "    \"Hexokinase enzyme\",\n",
    "    \"Collagen alpha chain\",\n",
    "    \"Sodium-potassium pump\",\n",
    "    \"Keratin intermediate filament\",\n",
    "    \"ATPase enzyme\"\n",
    "]"
   ]
  },
  {
   "cell_type": "code",
   "execution_count": 59,
   "id": "d4ab516e-238c-4ce3-8340-d88de45f7bda",
   "metadata": {},
   "outputs": [
    {
     "name": "stdout",
     "output_type": "stream",
     "text": [
      "Enzyme\n",
      "Structural Protein\n",
      "Unknown Function\n",
      "Structural Protein\n",
      "Enzyme\n"
     ]
    }
   ],
   "source": [
    "def classify_proteins(proteins):\n",
    "    for i, protein in enumerate(proteins, 1):\n",
    "        if \"ase\" in protein:\n",
    "             print(\"Enzyme\")\n",
    "        elif \"Collagen\" in protein or \"Keratin\" in protein:\n",
    "            print(\"Structural Protein\")\n",
    "        elif \"transporter\" in protein or \"channel\" in protein:\n",
    "             ptint(\"Transport Protein\")\n",
    "        else:\n",
    "            print(\"Unknown Function\")\n",
    "        \n",
    "        \n",
    "proteins = [\n",
    "    \"Hexokinase enzyme\",\n",
    "    \"Collagen alpha chain\",\n",
    "    \"Sodium-potassium pump\",\n",
    "    \"Keratin intermediate filament\",\n",
    "    \"ATPase enzyme\"\n",
    "]\n",
    "\n",
    "classify_proteins(proteins)"
   ]
  },
  {
   "cell_type": "code",
   "execution_count": null,
   "id": "3e99f96c-1832-4a88-ab1d-c1846a015579",
   "metadata": {},
   "outputs": [],
   "source": []
  }
 ],
 "metadata": {
  "kernelspec": {
   "display_name": "Python 3 (ipykernel)",
   "language": "python",
   "name": "python3"
  },
  "language_info": {
   "codemirror_mode": {
    "name": "ipython",
    "version": 3
   },
   "file_extension": ".py",
   "mimetype": "text/x-python",
   "name": "python",
   "nbconvert_exporter": "python",
   "pygments_lexer": "ipython3",
   "version": "3.12.4"
  }
 },
 "nbformat": 4,
 "nbformat_minor": 5
}
