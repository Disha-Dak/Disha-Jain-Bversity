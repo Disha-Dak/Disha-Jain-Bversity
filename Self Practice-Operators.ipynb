{
 "cells": [
  {
   "cell_type": "markdown",
   "id": "57a572a9-486a-4684-a676-af54cb05034a",
   "metadata": {},
   "source": [
    "# Arthematic operators"
   ]
  },
  {
   "cell_type": "code",
   "execution_count": 1,
   "id": "56fb665e-55d5-4db1-93c2-2c88c028ef99",
   "metadata": {},
   "outputs": [],
   "source": [
    "list1 = [12, 5, 8, 15, 20]\n",
    "list2 = [4, 5, 9, 15, 10]"
   ]
  },
  {
   "cell_type": "code",
   "execution_count": 4,
   "id": "176be103-81ca-4a37-8f6f-afcca91b2558",
   "metadata": {},
   "outputs": [],
   "source": [
    "sum_list = [a + b for a, b in zip(list1, list2)]"
   ]
  },
  {
   "cell_type": "code",
   "execution_count": 5,
   "id": "41ce1338-5d69-4d23-9008-95f38d0bfbf2",
   "metadata": {},
   "outputs": [
    {
     "data": {
      "text/plain": [
       "[16, 10, 17, 30, 30]"
      ]
     },
     "execution_count": 5,
     "metadata": {},
     "output_type": "execute_result"
    }
   ],
   "source": [
    "sum_list"
   ]
  },
  {
   "cell_type": "code",
   "execution_count": 6,
   "id": "3b828f43-ff61-43e6-9fb0-70664b1220d3",
   "metadata": {},
   "outputs": [],
   "source": [
    "diff_list = [a - b for a, b in zip(list1, list2)]"
   ]
  },
  {
   "cell_type": "code",
   "execution_count": 7,
   "id": "23631208-868e-48e9-baaf-fe8e690a61ad",
   "metadata": {},
   "outputs": [
    {
     "data": {
      "text/plain": [
       "[8, 0, -1, 0, 10]"
      ]
     },
     "execution_count": 7,
     "metadata": {},
     "output_type": "execute_result"
    }
   ],
   "source": [
    "diff_list"
   ]
  },
  {
   "cell_type": "code",
   "execution_count": 8,
   "id": "3d708411-9700-4bfc-9b69-6907ce1ed415",
   "metadata": {},
   "outputs": [],
   "source": [
    "prod_list=[a*b for a, b in zip(list1, list2)]"
   ]
  },
  {
   "cell_type": "code",
   "execution_count": 9,
   "id": "4142cf23-9adf-4f63-a1fe-9c96dac0b755",
   "metadata": {},
   "outputs": [
    {
     "data": {
      "text/plain": [
       "[48, 25, 72, 225, 200]"
      ]
     },
     "execution_count": 9,
     "metadata": {},
     "output_type": "execute_result"
    }
   ],
   "source": [
    "prod_list"
   ]
  },
  {
   "cell_type": "code",
   "execution_count": 14,
   "id": "281c07f0-c504-4d85-b1e4-495f070c3d47",
   "metadata": {},
   "outputs": [],
   "source": [
    "div_list=[a/b if b!=0 else None for a, b in zip(list1, list2)]"
   ]
  },
  {
   "cell_type": "code",
   "execution_count": 15,
   "id": "dedbb0e1-45af-42e9-9902-55c879441a17",
   "metadata": {},
   "outputs": [
    {
     "data": {
      "text/plain": [
       "[3.0, 1.0, 0.8888888888888888, 1.0, 2.0]"
      ]
     },
     "execution_count": 15,
     "metadata": {},
     "output_type": "execute_result"
    }
   ],
   "source": [
    "div_list"
   ]
  },
  {
   "cell_type": "code",
   "execution_count": 16,
   "id": "a4bcfb1c-4109-43d4-8009-45c7f623342b",
   "metadata": {},
   "outputs": [],
   "source": [
    "mod_list=[a%b if b!=0 else None for a, b in zip(list1, list2)]"
   ]
  },
  {
   "cell_type": "code",
   "execution_count": 17,
   "id": "777909fb-9ad0-4bab-b570-a271b3c93e8f",
   "metadata": {},
   "outputs": [
    {
     "data": {
      "text/plain": [
       "[0, 0, 8, 0, 0]"
      ]
     },
     "execution_count": 17,
     "metadata": {},
     "output_type": "execute_result"
    }
   ],
   "source": [
    "mod_list"
   ]
  },
  {
   "cell_type": "markdown",
   "id": "acd535ab-93ef-47a7-8c49-3cb892d8723e",
   "metadata": {},
   "source": [
    "# Comparison Operations:"
   ]
  },
  {
   "cell_type": "code",
   "execution_count": 19,
   "id": "12a0afe2-a441-45f1-af67-8675381e1366",
   "metadata": {},
   "outputs": [],
   "source": [
    "less_than=[a>b for a, b in zip(list1, list2)]"
   ]
  },
  {
   "cell_type": "code",
   "execution_count": 20,
   "id": "3cf12f75-2ab3-4769-be30-4bf39bb393a4",
   "metadata": {},
   "outputs": [
    {
     "data": {
      "text/plain": [
       "[True, False, False, False, True]"
      ]
     },
     "execution_count": 20,
     "metadata": {},
     "output_type": "execute_result"
    }
   ],
   "source": [
    "less_than"
   ]
  },
  {
   "cell_type": "code",
   "execution_count": 21,
   "id": "f29ffbca-2419-4d79-98de-4a23803b61c0",
   "metadata": {},
   "outputs": [],
   "source": [
    "greater_than=[a<b for a, b in zip(list1, list2)]"
   ]
  },
  {
   "cell_type": "code",
   "execution_count": 22,
   "id": "08396336-a89d-47a0-824f-79b66a8aa881",
   "metadata": {},
   "outputs": [
    {
     "data": {
      "text/plain": [
       "[False, False, True, False, False]"
      ]
     },
     "execution_count": 22,
     "metadata": {},
     "output_type": "execute_result"
    }
   ],
   "source": [
    "greater_than"
   ]
  },
  {
   "cell_type": "code",
   "execution_count": 23,
   "id": "5ac1a6fd-7af4-45d1-8984-27a2fe0bf63e",
   "metadata": {},
   "outputs": [],
   "source": [
    "equal_to=[a==b for a, b in zip(list1, list2)]"
   ]
  },
  {
   "cell_type": "code",
   "execution_count": 24,
   "id": "2b9dbff9-efd4-4f66-bdb8-8d0d5b59f729",
   "metadata": {},
   "outputs": [
    {
     "data": {
      "text/plain": [
       "[False, True, False, True, False]"
      ]
     },
     "execution_count": 24,
     "metadata": {},
     "output_type": "execute_result"
    }
   ],
   "source": [
    "equal_to"
   ]
  },
  {
   "cell_type": "code",
   "execution_count": 26,
   "id": "57880142-88b9-4432-aacb-7a29c107aa62",
   "metadata": {},
   "outputs": [],
   "source": [
    "lesseual_than=[a>=b for a, b in zip(list1, list2)]"
   ]
  },
  {
   "cell_type": "code",
   "execution_count": 27,
   "id": "55f795aa-33b5-4994-8d1b-b099289754c2",
   "metadata": {},
   "outputs": [
    {
     "data": {
      "text/plain": [
       "[True, True, False, True, True]"
      ]
     },
     "execution_count": 27,
     "metadata": {},
     "output_type": "execute_result"
    }
   ],
   "source": [
    "lesseual_than"
   ]
  },
  {
   "cell_type": "markdown",
   "id": "87e964d0-f7cb-466c-bee1-3d8ab218f93b",
   "metadata": {},
   "source": [
    " # Logical Operations"
   ]
  },
  {
   "cell_type": "code",
   "execution_count": 28,
   "id": "c21cef1a-4241-4bb9-b7c0-91e8a97498ac",
   "metadata": {},
   "outputs": [],
   "source": [
    "even_odd_list1 = [a % 2 == 0 for a in list1]"
   ]
  },
  {
   "cell_type": "code",
   "execution_count": 29,
   "id": "3defb9a9-c2df-445d-8903-82dd60cf7ca1",
   "metadata": {},
   "outputs": [],
   "source": [
    "even_odd_list2 = [b % 2 == 0 for b in list1]"
   ]
  },
  {
   "cell_type": "code",
   "execution_count": 30,
   "id": "9e96f065-2a66-4f7b-9a42-80bfec3375ba",
   "metadata": {},
   "outputs": [],
   "source": [
    "total_list=[a % 2 ==b % 2 for a,b in zip(list1,list2)]"
   ]
  },
  {
   "cell_type": "code",
   "execution_count": 31,
   "id": "5a5be9c5-7fcc-44db-a93c-b8516ccf8147",
   "metadata": {},
   "outputs": [
    {
     "data": {
      "text/plain": [
       "[True, True, False, True, True]"
      ]
     },
     "execution_count": 31,
     "metadata": {},
     "output_type": "execute_result"
    }
   ],
   "source": [
    "total_list"
   ]
  },
  {
   "cell_type": "markdown",
   "id": "b1884c93-248e-41a6-8e0b-85c622c19c21",
   "metadata": {},
   "source": [
    "# Membership_list"
   ]
  },
  {
   "cell_type": "code",
   "execution_count": 32,
   "id": "dfc66c81-658e-4724-8c13-f300a42c610f",
   "metadata": {},
   "outputs": [
    {
     "name": "stdout",
     "output_type": "stream",
     "text": [
      "7 is in neither list.\n"
     ]
    }
   ],
   "source": [
    "num_to_check = 7\n",
    "is_in_list1 = num_to_check in list1\n",
    "is_in_list2 = num_to_check in list2\n",
    "\n",
    "if is_in_list1 and is_in_list2:\n",
    "    print(\"7 is in both lists.\")\n",
    "elif is_in_list1:\n",
    "    print(\"7 is in list1 only.\")\n",
    "elif is_in_list2:\n",
    "    print(\"7 is in list2 only.\")\n",
    "else:\n",
    "    print(\"7 is in neither list.\")"
   ]
  },
  {
   "cell_type": "markdown",
   "id": "fed33706-1eb3-4049-bc6c-65aa825419c3",
   "metadata": {},
   "source": [
    "# 1. Arithmetic with Conditional Statements\n",
    "Given two integers, a and b, write a Python function that:\n",
    "\n",
    "Returns the sum if both are even.\n",
    "Returns the product if both are odd.\n",
    "Otherwise, returns the difference. a = 4, b = 8 → Output: 12\n",
    "a = 3, b = 7 → Output: 21\n",
    "a = 5, b = 10 → Output: -5"
   ]
  },
  {
   "cell_type": "code",
   "execution_count": 88,
   "id": "de921649-435d-4ae5-b3d4-f88324d3f6a8",
   "metadata": {},
   "outputs": [
    {
     "name": "stdout",
     "output_type": "stream",
     "text": [
      "12\n",
      "21\n",
      "-5\n"
     ]
    }
   ],
   "source": [
    "def arithmetic_operations(a, b):\n",
    "    if a % 2 == 0 and b % 2 == 0:\n",
    "        return a + b\n",
    "    elif a % 2 != 0 and b % 2 != 0:\n",
    "        return a * b\n",
    "    else:\n",
    "        return a - b\n",
    "\n",
    "print(arithmetic_operations(4, 8)) \n",
    "print(arithmetic_operations(3, 7))  \n",
    "print(arithmetic_operations(5, 10))  \n",
    "\n"
   ]
  },
  {
   "cell_type": "markdown",
   "id": "c263df30-f5c1-434f-ae82-58201cad7201",
   "metadata": {},
   "source": [
    "#  Maximum Product of Two Elements\n",
    "Write a Python function that takes a list of integers and returns the maximum product of any two distinct elements in the list. Use comparison and arithmetic operators.arr = [3, 5, 7, 2, 8] → Output: 56 (8 * 7)\n",
    "arr = [-10, -3, 5, 6] → Output: 30 (−3 * −10)"
   ]
  },
  {
   "cell_type": "code",
   "execution_count": 66,
   "id": "6b2d20ab-f432-4fb4-bc18-23b739563d43",
   "metadata": {},
   "outputs": [
    {
     "name": "stdout",
     "output_type": "stream",
     "text": [
      "56\n",
      "30\n"
     ]
    }
   ],
   "source": [
    "def max_product(arr):\n",
    "    arr.sort()   #always sort the value first\n",
    "    return max(arr[-1] * arr[-2], arr[0] * arr[1])    #negative indices then poistive inindices\n",
    "\n",
    "print(max_product([3, 5, 7, 2, 8]))\n",
    "print(max_product([-10, -3, 5, 6]))"
   ]
  },
  {
   "cell_type": "markdown",
   "id": "3d94f209-f47e-48e4-b71b-4ee55d065b2e",
   "metadata": {},
   "source": [
    "#  Even and Odd Index Operations\n",
    "Given a list of integers, return two values:\n",
    "\n",
    "The sum of elements at even indices.\n",
    "The product of elements at odd indices.arr = [2, 3, 5, 7, 11] → Output: (18, 21)\n"
   ]
  },
  {
   "cell_type": "code",
   "execution_count": 94,
   "id": "9be72803-0c7a-445a-9624-357b76f5cf5d",
   "metadata": {},
   "outputs": [
    {
     "name": "stdout",
     "output_type": "stream",
     "text": [
      "(18, 21)\n"
     ]
    }
   ],
   "source": [
    "def sum_and_product(arr):\n",
    "    even_sum = 0\n",
    "    odd_product = 1\n",
    "    for i in range(len(arr)):\n",
    "        if i % 2 == 0:\n",
    "            even_sum += arr[i]\n",
    "        else:\n",
    "            odd_product *= arr[i]\n",
    "    return even_sum, odd_product\n",
    "\n",
    "# Test the function\n",
    "result = sum_and_product([2, 3, 5, 7, 11])\n",
    "print(result)"
   ]
  },
  {
   "cell_type": "markdown",
   "id": "3d0af79b-9ec1-4d1d-b15b-1209841bc551",
   "metadata": {},
   "source": [
    "# Count Positive and Negative Numbers\n",
    "Given a list of integers, write a function that counts how many numbers are positive and how many are negative. Return the two counts as a tuple using comparison operators.\n",
    "arr = [5, -3, 9, -1, -2, 7] → Output: (3, 3)\n",
    "arr = [10, -4, -6, 12] → Output: (2, 2)"
   ]
  },
  {
   "cell_type": "code",
   "execution_count": 31,
   "id": "3f33c3ee-bb0d-4f08-80ab-e55cfd64e34e",
   "metadata": {},
   "outputs": [
    {
     "name": "stdout",
     "output_type": "stream",
     "text": [
      "Weird\n",
      "Not Weird\n"
     ]
    }
   ],
   "source": [
    "def check_weird(n):\n",
    "    if n % 2 != 0:  # Odd numbers\n",
    "        print(\"Weird\")\n",
    "    elif n % 2 == 0 and n in range(2, 6): \n",
    "        print(\"Not Weird\")\n",
    "    elif n % 2 == 0 and n in range(6, 21):  \n",
    "        print(\"Weird\")\n",
    "    elif n % 2 == 0 and n > 20: \n",
    "        print(\"Not Weird\")\n",
    "\n",
    "\n",
    "check_weird(3) \n",
    "check_weird(24) "
   ]
  },
  {
   "cell_type": "code",
   "execution_count": 32,
   "id": "f40e75a3-8aee-4d34-83d1-1e6d11c6e183",
   "metadata": {},
   "outputs": [
    {
     "name": "stdout",
     "output_type": "stream",
     "text": [
      "Positive numbers in the list:  26\n",
      "Negative numbers in the list:  26\n"
     ]
    }
   ],
   "source": [
    "#How to have two inputs, i have two list??   #Something is wrong \n",
    "def list_num(list1):\n",
    "# list of numbers\n",
    "  pos_count, neg_count = 0, 0\n",
    " # iterating each number in list\n",
    "for num in list1:\n",
    "  # checking condition\n",
    "    if num >= 0:\n",
    "        pos_count += 1\n",
    "    else:\n",
    "        neg_count += 1\n",
    "        \n",
    "list1 = [5, -3, 9, -1, -2, 7]\n",
    "list2 = [10, -4, -6, 12] \n",
    "print(\"Positive numbers in the list: \", pos_count)\n",
    "print(\"Negative numbers in the list: \", neg_count)"
   ]
  },
  {
   "cell_type": "markdown",
   "id": "75e70cf2-3ac7-47e9-8a48-06ffa78ad428",
   "metadata": {},
   "source": [
    "# Problem Statement: Gene Sequence Pattern Matching\n",
    "In a bioinformatics research project, you're working with gene sequences represented by binary strings (where 1 represents a match with a known sequence, and 0 represents a mismatch). You need to analyze multiple gene sequences and determine specific patterns based on logical conditions.\n",
    "\n",
    "You are given a list of binary strings where:\n",
    "\n",
    "Each string represents a sequence of gene data.\n",
    "The goal is to find sequences that meet certain conditions using logical operators.\n",
    "Task:\n",
    "\n",
    "Write a Python program that:\n",
    "\n",
    "Input: Takes multiple gene sequences (as binary strings) and a reference pattern (also a binary string).\n",
    "Conditions:\n",
    "Use AND to find positions where both a gene sequence and the reference pattern have a match (1).\n",
    "Use OR to find positions where either the gene sequence or the reference pattern has a match (1).\n",
    "Use NOT to find positions in the gene sequence where there is no match (invert the binary values).\n",
    "Output: Display the result of applying the logical operations for each condition.\n",
    "sequences = [\n",
    "    \"110101\",\n",
    "    \"101001\",\n",
    "    \"111000\"\n",
    "]\n",
    "reference_pattern = \"101110\"\n",
    "\n",
    " Expected Output:\n",
    "AND Operation:\n",
    "100100\n",
    "101000\n",
    "101000\n",
    "\n",
    "#R Operation:\n",
    "111111\n",
    "101111\n",
    "111110\n",
    "\n",
    "NOT Operation (for each sequence):\n",
    "001010\n",
    "010110\n",
    "000111\n",
    "\n",
    "\n"
   ]
  },
  {
   "cell_type": "code",
   "execution_count": 43,
   "id": "6ac80e40-03d2-4ad6-8ace-e38e176ab873",
   "metadata": {},
   "outputs": [
    {
     "name": "stdout",
     "output_type": "stream",
     "text": [
      "AND Operation:\n",
      "100100\n",
      "101000\n",
      "101000\n",
      "\n",
      "OR Operation:\n",
      "111111\n",
      "101111\n",
      "111110\n",
      "\n",
      "NOT Operation:\n",
      "001010\n",
      "010110\n",
      "000111\n",
      "\n",
      "XOR Operation (Mismatch Detection):\n",
      "011011\n",
      "000111\n",
      "010110\n"
     ]
    }
   ],
   "source": [
    "# Main function\n",
    "def analyze_gene_sequences(sequences, reference_pattern):\n",
    "    print(\"AND Operation:\")\n",
    "    for seq in sequences:\n",
    "        print(and_operation(seq, reference_pattern))\n",
    "\n",
    "    print(\"\\nOR Operation:\")\n",
    "    for seq in sequences:\n",
    "        print(or_operation(seq, reference_pattern))\n",
    "\n",
    "    print(\"\\nNOT Operation:\")\n",
    "    for seq in sequences:\n",
    "        print(not_operation(seq))\n",
    "\n",
    "    print(\"\\nXOR Operation (Mismatch Detection):\")\n",
    "    for seq in sequences:\n",
    "        print(xor_operation(seq, reference_pattern))\n",
    "\n",
    "# Input gene sequences and reference pattern\n",
    "sequences = [\n",
    "    \"110101\",\n",
    "    \"101001\",\n",
    "    \"111000\"\n",
    "]\n",
    "reference_pattern = \"101110\"\n",
    "\n",
    "# Run the analysis\n",
    "analyze_gene_sequences(sequences, reference_pattern)\n"
   ]
  },
  {
   "cell_type": "markdown",
   "id": "32f86f40-7bdf-4b36-a332-ab0f01b0b428",
   "metadata": {},
   "source": [
    "# Here are two bioinformatics problem statements involving the use of logical operators:\n",
    "\n",
    "Problem 1: Gene Mutation Detection\n",
    "Context:\n",
    "\n",
    "You are analyzing DNA sequences of different species to detect specific mutations. Each sequence is represented as a string of binary values (1 for a mutation at that position, and 0 for no mutation).\n",
    "\n",
    "Problem:\n",
    "\n",
    "You are given two DNA sequences (as binary strings) from different species. Your task is to:\n",
    "\n",
    "Use the AND operator to find common mutation sites.\n",
    "Use the OR operator to find all mutation sites that occur in either sequence.\n",
    "Use the XOR operator to detect unique mutation sites (where one species has a mutation and the other does not).\n",
    "Count how many mutation sites are present in the sequences and how many are unique to each species.\n",
    "Input:\n",
    "\n",
    "Two binary strings of equal length representing the DNA sequences \n",
    "sequence1 = \"1100101\"\n",
    "sequence2 = \"1011100\"\n"
   ]
  },
  {
   "cell_type": "code",
   "execution_count": 52,
   "id": "c283099a-bb7f-4391-81da-96906a605c84",
   "metadata": {},
   "outputs": [
    {
     "name": "stdout",
     "output_type": "stream",
     "text": [
      "And-all_mutation operation:\n",
      "1000100\n",
      "or-common mutation operation:\n",
      "1111101\n"
     ]
    }
   ],
   "source": [
    "def analysis_seq(seq1,seq2):\n",
    "    print(\"And-all_mutation operation:\")\n",
    "    print(and_operation(seq1,seq2))\n",
    "\n",
    "     print(\"or-common mutation operation:\")\n",
    "    print(or_operation(seq1,seq2))\n",
    "\n",
    "#Stuck at how to count the mutations\n",
    "\n",
    " \n",
    "seq1 = \"1100101\"\n",
    "seq2 = \"1011100\"\n",
    "\n",
    "# Run the analysis\n",
    "analysis_seq(seq1,seq2)\n",
    "        "
   ]
  },
  {
   "cell_type": "code",
   "execution_count": null,
   "id": "b700feda-2e77-4a93-b582-c5c4d4b35391",
   "metadata": {},
   "outputs": [],
   "source": []
  }
 ],
 "metadata": {
  "kernelspec": {
   "display_name": "Python 3 (ipykernel)",
   "language": "python",
   "name": "python3"
  },
  "language_info": {
   "codemirror_mode": {
    "name": "ipython",
    "version": 3
   },
   "file_extension": ".py",
   "mimetype": "text/x-python",
   "name": "python",
   "nbconvert_exporter": "python",
   "pygments_lexer": "ipython3",
   "version": "3.12.4"
  }
 },
 "nbformat": 4,
 "nbformat_minor": 5
}
