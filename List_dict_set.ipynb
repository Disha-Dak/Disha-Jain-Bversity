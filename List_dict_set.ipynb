{
 "cells": [
  {
   "cell_type": "code",
   "execution_count": 23,
   "id": "416b015c-953c-4dde-8130-93ba970b3d0c",
   "metadata": {},
   "outputs": [],
   "source": [
    "a=[\"Apple\",\"Orange\",\"Banana\"]"
   ]
  },
  {
   "cell_type": "code",
   "execution_count": 24,
   "id": "10487f98-1ab8-40b2-b958-6767c4d4fbed",
   "metadata": {},
   "outputs": [
    {
     "data": {
      "text/plain": [
       "['Apple', 'Orange', 'Banana']"
      ]
     },
     "execution_count": 24,
     "metadata": {},
     "output_type": "execute_result"
    }
   ],
   "source": [
    "a"
   ]
  },
  {
   "cell_type": "code",
   "execution_count": 3,
   "id": "5069ee0e-592a-4034-bfea-391851f977bf",
   "metadata": {},
   "outputs": [],
   "source": [
    "b=[1,2,3,\"Disha\"]"
   ]
  },
  {
   "cell_type": "code",
   "execution_count": 4,
   "id": "3fec735a-14d3-43cf-8a46-ef173bb587c3",
   "metadata": {},
   "outputs": [
    {
     "data": {
      "text/plain": [
       "[1, 2, 3, 'Disha']"
      ]
     },
     "execution_count": 4,
     "metadata": {},
     "output_type": "execute_result"
    }
   ],
   "source": [
    "b"
   ]
  },
  {
   "cell_type": "code",
   "execution_count": 9,
   "id": "f043faf8-6103-413e-8da0-e8a624297d8f",
   "metadata": {},
   "outputs": [],
   "source": [
    "c=\"Apple\"\n",
    "d=\"oranges\""
   ]
  },
  {
   "cell_type": "code",
   "execution_count": 10,
   "id": "16e6dd7d-4ef8-4667-85cc-e73d5909c6f0",
   "metadata": {},
   "outputs": [
    {
     "name": "stdout",
     "output_type": "stream",
     "text": [
      "True\n"
     ]
    }
   ],
   "source": [
    "if c== \"Apple\":\n",
    "    print(True)"
   ]
  },
  {
   "cell_type": "code",
   "execution_count": 12,
   "id": "057eab82-5206-4537-84bd-7bce96eabea8",
   "metadata": {},
   "outputs": [
    {
     "data": {
      "text/plain": [
       "4"
      ]
     },
     "execution_count": 12,
     "metadata": {},
     "output_type": "execute_result"
    }
   ],
   "source": [
    "len(b)"
   ]
  },
  {
   "cell_type": "code",
   "execution_count": 13,
   "id": "a8a858cb-894e-4d0b-9d4c-df7085a36d63",
   "metadata": {},
   "outputs": [
    {
     "data": {
      "text/plain": [
       "3"
      ]
     },
     "execution_count": 13,
     "metadata": {},
     "output_type": "execute_result"
    }
   ],
   "source": [
    "b.index(\"Disha\")     #Index-fetches the position"
   ]
  },
  {
   "cell_type": "code",
   "execution_count": 20,
   "id": "69b0948c-e42e-42be-b289-484e542dd6f2",
   "metadata": {},
   "outputs": [
    {
     "data": {
      "text/plain": [
       "0"
      ]
     },
     "execution_count": 20,
     "metadata": {},
     "output_type": "execute_result"
    }
   ],
   "source": [
    "b.index(1)"
   ]
  },
  {
   "cell_type": "code",
   "execution_count": 22,
   "id": "874855e2-3311-4b63-99b3-bc09c93519e7",
   "metadata": {},
   "outputs": [
    {
     "data": {
      "text/plain": [
       "1"
      ]
     },
     "execution_count": 22,
     "metadata": {},
     "output_type": "execute_result"
    }
   ],
   "source": [
    "len(a)"
   ]
  },
  {
   "cell_type": "code",
   "execution_count": 25,
   "id": "f236ab9e-4f1b-4548-a5b9-a68e887792fb",
   "metadata": {},
   "outputs": [
    {
     "data": {
      "text/plain": [
       "['Apple', 'Orange', 'Banana']"
      ]
     },
     "execution_count": 25,
     "metadata": {},
     "output_type": "execute_result"
    }
   ],
   "source": [
    "a"
   ]
  },
  {
   "cell_type": "code",
   "execution_count": 26,
   "id": "0693792f-b70a-4b12-9ccb-f9af8518cab5",
   "metadata": {},
   "outputs": [
    {
     "data": {
      "text/plain": [
       "3"
      ]
     },
     "execution_count": 26,
     "metadata": {},
     "output_type": "execute_result"
    }
   ],
   "source": [
    "len(a)"
   ]
  },
  {
   "cell_type": "code",
   "execution_count": 27,
   "id": "0825c2a3-c198-4c32-b934-d91d76c03230",
   "metadata": {},
   "outputs": [],
   "source": [
    "d=[\"apple\",\"lemon\",\"orange\",\"apple\"]       #List"
   ]
  },
  {
   "cell_type": "code",
   "execution_count": 28,
   "id": "a7bd69c5-f9e7-4133-82c6-900646768a70",
   "metadata": {},
   "outputs": [
    {
     "data": {
      "text/plain": [
       "['apple', 'lemon', 'orange', 'apple']"
      ]
     },
     "execution_count": 28,
     "metadata": {},
     "output_type": "execute_result"
    }
   ],
   "source": [
    "d"
   ]
  },
  {
   "cell_type": "code",
   "execution_count": 29,
   "id": "11b21936-d574-41b9-b086-3690c7d56956",
   "metadata": {},
   "outputs": [
    {
     "data": {
      "text/plain": [
       "{'apple', 'lemon', 'orange'}"
      ]
     },
     "execution_count": 29,
     "metadata": {},
     "output_type": "execute_result"
    }
   ],
   "source": [
    "set(d)      #Not repetitive, curly brackets,Removes duplicates."
   ]
  },
  {
   "cell_type": "code",
   "execution_count": 30,
   "id": "5c482787-5778-4dfe-9962-b9a170078efb",
   "metadata": {},
   "outputs": [],
   "source": [
    "first_set={1,2,3}"
   ]
  },
  {
   "cell_type": "code",
   "execution_count": 31,
   "id": "a1894439-cf45-4422-bb3f-98698666dc57",
   "metadata": {},
   "outputs": [
    {
     "data": {
      "text/plain": [
       "{1, 2, 3}"
      ]
     },
     "execution_count": 31,
     "metadata": {},
     "output_type": "execute_result"
    }
   ],
   "source": [
    "first_set"
   ]
  },
  {
   "cell_type": "code",
   "execution_count": 52,
   "id": "b6264520-055d-47d6-ac56-df25174bc084",
   "metadata": {},
   "outputs": [],
   "source": [
    "a_1={\"name\":\"Disha\",                #Dictionary\n",
    "     \"age\":24,\n",
    "     \"gender\":\"Female\",\n",
    "     \"Status\":True}"
   ]
  },
  {
   "cell_type": "code",
   "execution_count": 53,
   "id": "7bb619d9-8ae3-4ff7-91e0-4a0076c83e2d",
   "metadata": {},
   "outputs": [
    {
     "data": {
      "text/plain": [
       "{'name': 'Disha', 'age': 24, 'gender': 'Female', 'Status': True}"
      ]
     },
     "execution_count": 53,
     "metadata": {},
     "output_type": "execute_result"
    }
   ],
   "source": [
    "a_1"
   ]
  },
  {
   "cell_type": "code",
   "execution_count": 54,
   "id": "383819e8-0b02-4ba1-a3b7-4afc031829e6",
   "metadata": {},
   "outputs": [
    {
     "data": {
      "text/plain": [
       "'Disha'"
      ]
     },
     "execution_count": 54,
     "metadata": {},
     "output_type": "execute_result"
    }
   ],
   "source": [
    "a_1[\"name\"]"
   ]
  },
  {
   "cell_type": "code",
   "execution_count": 4,
   "id": "8c28c820-b3a0-42b7-9324-cb24752f3702",
   "metadata": {},
   "outputs": [],
   "source": [
    "a_1=[{\"name\":\"Disha\",\n",
    "     \"age\":24,\n",
    "     \"gender\":\"Female\",\n",
    "     \"Status\":True},\n",
    "     {\"name\":\"Varsha\",\n",
    "     \"age\":24,\n",
    "     \"gender\":\"Female\",\n",
    "     \"Status\":True}]\n",
    "    "
   ]
  },
  {
   "cell_type": "code",
   "execution_count": 5,
   "id": "cc1d9d9d-ff16-4208-81b4-645be6a8037c",
   "metadata": {},
   "outputs": [
    {
     "data": {
      "text/plain": [
       "'Varsha'"
      ]
     },
     "execution_count": 5,
     "metadata": {},
     "output_type": "execute_result"
    }
   ],
   "source": [
    "a_1[1][\"name\"]"
   ]
  },
  {
   "cell_type": "code",
   "execution_count": 4,
   "id": "8533afce-e340-47ea-b931-b63db09802c5",
   "metadata": {},
   "outputs": [],
   "source": [
    "a=[\"apple\",\"lemon\"]"
   ]
  },
  {
   "cell_type": "code",
   "execution_count": 5,
   "id": "2ae6c60f-d72c-4d99-aec7-c1733f541126",
   "metadata": {},
   "outputs": [
    {
     "data": {
      "text/plain": [
       "['apple', 'lemon']"
      ]
     },
     "execution_count": 5,
     "metadata": {},
     "output_type": "execute_result"
    }
   ],
   "source": [
    "a"
   ]
  },
  {
   "cell_type": "code",
   "execution_count": 6,
   "id": "b35eeb11-b3a4-46c3-9b2b-7b10c8e73b10",
   "metadata": {},
   "outputs": [],
   "source": [
    "a.append(\"momo\")   #To add"
   ]
  },
  {
   "cell_type": "code",
   "execution_count": 7,
   "id": "b09d689c-c8e4-493a-8fed-1c7b98834a86",
   "metadata": {},
   "outputs": [
    {
     "data": {
      "text/plain": [
       "['apple', 'lemon', 'momo']"
      ]
     },
     "execution_count": 7,
     "metadata": {},
     "output_type": "execute_result"
    }
   ],
   "source": [
    "a"
   ]
  },
  {
   "cell_type": "code",
   "execution_count": 8,
   "id": "1e72e3bb-b069-4bb6-b8d2-8b92d587b7c4",
   "metadata": {},
   "outputs": [],
   "source": [
    "a.remove(\"apple\")   #To remove"
   ]
  },
  {
   "cell_type": "code",
   "execution_count": 9,
   "id": "fb05320b-f284-4df8-9691-6a44d0b76535",
   "metadata": {},
   "outputs": [
    {
     "data": {
      "text/plain": [
       "['lemon', 'momo']"
      ]
     },
     "execution_count": 9,
     "metadata": {},
     "output_type": "execute_result"
    }
   ],
   "source": [
    "a"
   ]
  },
  {
   "cell_type": "markdown",
   "id": "80f3bbb5-aec9-4e04-a080-a9691529c435",
   "metadata": {},
   "source": [
    "# Self pratice"
   ]
  },
  {
   "cell_type": "markdown",
   "id": "49570977-147e-4350-b51f-368b6fa47dd3",
   "metadata": {},
   "source": [
    "1. List Problem Statement\n",
    "Problem: You are given a list of numbers. Write a Python program to:\n",
    "\n",
    "Add a new number to the list.\n",
    "Remove all occurrences of a specific number.\n",
    "Sort the list in ascending order.\n",
    "Calculate the sum of all numbers in the list.\n",
    "numbers = [4, 2, 8, 6, 4, 9, 3]\n",
    "# Add 10 to the list\n",
    "# Remove all occurrences of 4\n",
    "# Sort the list\n",
    "# Calculate the sum of the list"
   ]
  },
  {
   "cell_type": "code",
   "execution_count": 25,
   "id": "08c5f21c-06fb-48fb-8b9a-80f521367736",
   "metadata": {},
   "outputs": [],
   "source": [
    "numbers = [4, 2, 8, 6, 4, 9, 3]"
   ]
  },
  {
   "cell_type": "code",
   "execution_count": 26,
   "id": "da67ed95-5d26-4e7a-b254-7c87c181f0ca",
   "metadata": {},
   "outputs": [],
   "source": [
    "numbers.append(10)"
   ]
  },
  {
   "cell_type": "code",
   "execution_count": 27,
   "id": "9204d0cc-2d4b-4bb8-83f7-41dff917205c",
   "metadata": {},
   "outputs": [
    {
     "data": {
      "text/plain": [
       "[4, 2, 8, 6, 4, 9, 3, 10]"
      ]
     },
     "execution_count": 27,
     "metadata": {},
     "output_type": "execute_result"
    }
   ],
   "source": [
    "numbers"
   ]
  },
  {
   "cell_type": "code",
   "execution_count": 30,
   "id": "c61bb9d7-6ffb-4473-abdf-f510528fad1f",
   "metadata": {},
   "outputs": [],
   "source": [
    "numbers.remove(4)"
   ]
  },
  {
   "cell_type": "code",
   "execution_count": 31,
   "id": "2f2f775b-959c-4a04-94ab-9dee5d111aca",
   "metadata": {},
   "outputs": [
    {
     "data": {
      "text/plain": [
       "[2, 8, 6, 9, 3, 10]"
      ]
     },
     "execution_count": 31,
     "metadata": {},
     "output_type": "execute_result"
    }
   ],
   "source": [
    "numbers"
   ]
  },
  {
   "cell_type": "code",
   "execution_count": 11,
   "id": "93dab5e1-3625-4556-8e78-ac1a932c42e4",
   "metadata": {},
   "outputs": [
    {
     "name": "stdout",
     "output_type": "stream",
     "text": [
      "Sorted list: [2, 3, 6, 8, 9, 10]\n"
     ]
    }
   ],
   "source": [
    "numbers.sort()\n",
    "print(\"Sorted list:\", numbers)"
   ]
  },
  {
   "cell_type": "code",
   "execution_count": 32,
   "id": "fec8e393-fb8d-40ac-bafd-34aec2e13363",
   "metadata": {},
   "outputs": [],
   "source": [
    "numbers = [4, 2, 8, 6, 4, 9, 3]"
   ]
  },
  {
   "cell_type": "code",
   "execution_count": 33,
   "id": "8d121383-f2be-4331-a394-1d16468588fd",
   "metadata": {},
   "outputs": [],
   "source": [
    "sum=0"
   ]
  },
  {
   "cell_type": "code",
   "execution_count": 36,
   "id": "b4a2c140-068b-4c61-bbfa-1c6d912a4715",
   "metadata": {},
   "outputs": [],
   "source": [
    "for i in numbers:\n",
    "    sum=sum+i"
   ]
  },
  {
   "cell_type": "code",
   "execution_count": 37,
   "id": "2abfdf3f-758c-40ff-8938-c9dce4e7b1f1",
   "metadata": {},
   "outputs": [
    {
     "data": {
      "text/plain": [
       "43"
      ]
     },
     "execution_count": 37,
     "metadata": {},
     "output_type": "execute_result"
    }
   ],
   "source": [
    "sum"
   ]
  },
  {
   "cell_type": "markdown",
   "id": "0bf14455-6285-463d-b2ec-0eee3e18d8dd",
   "metadata": {},
   "source": [
    "# 2. Set Problem Statement\n",
    "Problem: You are given two sets of integers representing two classes of students. Write a Python program to:\n",
    "\n",
    "Find the union of the two sets (students who are in either class).\n",
    "Find the intersection (students who are in both classes).\n",
    "Find the difference between the two sets (students who are in one class but not the other).\n",
    "Example:\n",
    "\n",
    "python\n",
    "Copy code\n",
    "class_a = {1, 2, 3, 4, 5}\n",
    "class_b = {4, 5, 6, 7, 8}\n",
    "# Find union, intersection, and difference"
   ]
  },
  {
   "cell_type": "code",
   "execution_count": 39,
   "id": "23084a9c-3222-4208-95d2-fcabad222c29",
   "metadata": {},
   "outputs": [],
   "source": [
    "class_a = {1, 2, 3, 4, 5}"
   ]
  },
  {
   "cell_type": "code",
   "execution_count": 40,
   "id": "54f965f9-80fc-4540-9e84-940a95481b5f",
   "metadata": {},
   "outputs": [],
   "source": [
    "class_b = {4, 5, 6, 7, 8}"
   ]
  },
  {
   "cell_type": "code",
   "execution_count": 41,
   "id": "4b7eb840-afc8-4904-8aee-c3535a69337f",
   "metadata": {},
   "outputs": [],
   "source": [
    "union_set = class_a.union(class_b)"
   ]
  },
  {
   "cell_type": "code",
   "execution_count": 42,
   "id": "bc2f9ad4-0671-44e2-a4e5-712911d385f0",
   "metadata": {},
   "outputs": [
    {
     "data": {
      "text/plain": [
       "{1, 2, 3, 4, 5, 6, 7, 8}"
      ]
     },
     "execution_count": 42,
     "metadata": {},
     "output_type": "execute_result"
    }
   ],
   "source": [
    "union_set"
   ]
  },
  {
   "cell_type": "code",
   "execution_count": 43,
   "id": "21fc1b6f-0621-44fd-8ac1-6b77266e207d",
   "metadata": {},
   "outputs": [],
   "source": [
    "intersection_set = class_a.intersection(class_b)"
   ]
  },
  {
   "cell_type": "code",
   "execution_count": 44,
   "id": "49539c4e-dd59-4646-95e9-3a21a9fe9c61",
   "metadata": {},
   "outputs": [
    {
     "data": {
      "text/plain": [
       "{4, 5}"
      ]
     },
     "execution_count": 44,
     "metadata": {},
     "output_type": "execute_result"
    }
   ],
   "source": [
    "intersection_set"
   ]
  },
  {
   "cell_type": "code",
   "execution_count": 46,
   "id": "3632a255-b3c0-4def-889d-f150d98e892a",
   "metadata": {},
   "outputs": [],
   "source": [
    "differnce_set = class_a.difference(class_b)"
   ]
  },
  {
   "cell_type": "code",
   "execution_count": 47,
   "id": "c00cbbf8-fec2-4f5e-88d0-c2eaa40fad1a",
   "metadata": {},
   "outputs": [
    {
     "data": {
      "text/plain": [
       "{1, 2, 3}"
      ]
     },
     "execution_count": 47,
     "metadata": {},
     "output_type": "execute_result"
    }
   ],
   "source": [
    "differnce_set"
   ]
  },
  {
   "cell_type": "code",
   "execution_count": 49,
   "id": "b1691f14-de21-40d0-8c1e-8d57eae11864",
   "metadata": {},
   "outputs": [],
   "source": [
    "differnce_set_1 = class_b.difference(class_a)"
   ]
  },
  {
   "cell_type": "code",
   "execution_count": 50,
   "id": "460b7c1e-f742-4f72-bd89-835985e650d2",
   "metadata": {},
   "outputs": [
    {
     "data": {
      "text/plain": [
       "{6, 7, 8}"
      ]
     },
     "execution_count": 50,
     "metadata": {},
     "output_type": "execute_result"
    }
   ],
   "source": [
    "differnce_set_1"
   ]
  },
  {
   "cell_type": "markdown",
   "id": "e6a8b494-2072-4711-8f37-3089188f44a2",
   "metadata": {},
   "source": [
    "# 3. Dictionary Problem Statement\n",
    "Problem: Write a Python program to manage a student's grades using a dictionary, where the subject name is the key and the grade is the value. Your program should:\n",
    "\n",
    "Add a new subject and grade.\n",
    "Update the grade of an existing subject.\n",
    "Calculate the average of all grades.\n",
    "Remove a subject from the dictionary.\n",
    "Example:\n",
    "\n",
    "python\n",
    "Copy code\n",
    "grades = {\"Math\": 85, \"English\": 78, \"Science\": 92}\n",
    " Add \"History\": 88\n",
    "Update \"Math\" grade to 90\n",
    "Calculate average of grades\n",
    "Remove \"English\""
   ]
  },
  {
   "cell_type": "code",
   "execution_count": 65,
   "id": "41a9ee85-56dc-4067-83de-b11b3a158696",
   "metadata": {},
   "outputs": [],
   "source": [
    "grades = {\"Math\": 85, \"English\": 78, \"Science\": 92}"
   ]
  },
  {
   "cell_type": "code",
   "execution_count": 54,
   "id": "d8a02228-759b-41da-8381-6af0876d374c",
   "metadata": {},
   "outputs": [
    {
     "name": "stdout",
     "output_type": "stream",
     "text": [
      "After adding History: {'Math': 85, 'English': 78, 'Science': 92, 'History': 88}\n"
     ]
    }
   ],
   "source": [
    "grades[\"History\"] = 88\n",
    "print(\"After adding History:\", grades)"
   ]
  },
  {
   "cell_type": "code",
   "execution_count": 55,
   "id": "1df33340-607f-4512-a463-16d292b6161c",
   "metadata": {},
   "outputs": [
    {
     "name": "stdout",
     "output_type": "stream",
     "text": [
      "After updating Math grade: {'Math': 90, 'English': 78, 'Science': 92, 'History': 88}\n"
     ]
    }
   ],
   "source": [
    "grades[\"Math\"] = 90\n",
    "print(\"After updating Math grade:\", grades)"
   ]
  },
  {
   "cell_type": "code",
   "execution_count": 58,
   "id": "7f6c6612-4f16-453e-8b83-4d62561eecda",
   "metadata": {},
   "outputs": [
    {
     "name": "stdout",
     "output_type": "stream",
     "text": [
      "After removing English: {'Math': 90, 'Science': 92, 'History': 88, 'Enlish': 78}\n"
     ]
    }
   ],
   "source": [
    "grades.pop(\"English\")                            #pop=used to remove\n",
    "print(\"After removing English:\", grades)"
   ]
  },
  {
   "cell_type": "code",
   "execution_count": 66,
   "id": "e5b553d6-000e-46d7-8dc6-fc18618135ea",
   "metadata": {},
   "outputs": [
    {
     "ename": "TypeError",
     "evalue": "'int' object is not callable",
     "output_type": "error",
     "traceback": [
      "\u001b[0;31m---------------------------------------------------------------------------\u001b[0m",
      "\u001b[0;31mTypeError\u001b[0m                                 Traceback (most recent call last)",
      "Cell \u001b[0;32mIn[66], line 1\u001b[0m\n\u001b[0;32m----> 1\u001b[0m average_grade \u001b[38;5;241m=\u001b[39m \u001b[38;5;28;43msum\u001b[39;49m\u001b[43m(\u001b[49m\u001b[43mgrades\u001b[49m\u001b[38;5;241;43m.\u001b[39;49m\u001b[43mvalues\u001b[49m\u001b[43m(\u001b[49m\u001b[43m)\u001b[49m\u001b[43m)\u001b[49m \u001b[38;5;241m/\u001b[39m \u001b[38;5;28mlen\u001b[39m(grades)\n",
      "\u001b[0;31mTypeError\u001b[0m: 'int' object is not callable"
     ]
    }
   ],
   "source": [
    "average_grade = sum(grades.values()) / len(grades)      #unable to figure this outtttt"
   ]
  },
  {
   "cell_type": "code",
   "execution_count": null,
   "id": "a3acd436-8d0b-4dd8-8a3c-a84783fc02cd",
   "metadata": {},
   "outputs": [],
   "source": []
  }
 ],
 "metadata": {
  "kernelspec": {
   "display_name": "Python 3 (ipykernel)",
   "language": "python",
   "name": "python3"
  },
  "language_info": {
   "codemirror_mode": {
    "name": "ipython",
    "version": 3
   },
   "file_extension": ".py",
   "mimetype": "text/x-python",
   "name": "python",
   "nbconvert_exporter": "python",
   "pygments_lexer": "ipython3",
   "version": "3.12.4"
  }
 },
 "nbformat": 4,
 "nbformat_minor": 5
}
