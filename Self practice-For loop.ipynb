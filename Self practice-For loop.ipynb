{
 "cells": [
  {
   "cell_type": "markdown",
   "id": "5bece28a-cb8b-4cb7-a935-0cac0a14992b",
   "metadata": {},
   "source": [
    "# For loop"
   ]
  },
  {
   "cell_type": "markdown",
   "id": "2110bf33-fa51-4eab-877a-29b34142dc97",
   "metadata": {},
   "source": [
    "Sum of All Even Numbers in a List"
   ]
  },
  {
   "cell_type": "code",
   "execution_count": 11,
   "id": "545085e7-b6b8-4bbc-a30a-67ac2ff364f9",
   "metadata": {},
   "outputs": [],
   "source": [
    "number=[1, 2, 3, 4, 5, 6, -8]"
   ]
  },
  {
   "cell_type": "code",
   "execution_count": 12,
   "id": "60e33447-a90d-45c4-907b-97c1e2a58d50",
   "metadata": {},
   "outputs": [],
   "source": [
    "sum=0"
   ]
  },
  {
   "cell_type": "code",
   "execution_count": 13,
   "id": "77d9e891-ce62-4f2d-9c1b-c5bf47968a46",
   "metadata": {},
   "outputs": [],
   "source": [
    "for i in number:\n",
    "    if i%2==0:\n",
    "     sum+=i"
   ]
  },
  {
   "cell_type": "code",
   "execution_count": 14,
   "id": "131416f4-acde-420f-a9c6-bd7bbd552ee9",
   "metadata": {},
   "outputs": [
    {
     "data": {
      "text/plain": [
       "4"
      ]
     },
     "execution_count": 14,
     "metadata": {},
     "output_type": "execute_result"
    }
   ],
   "source": [
    "sum"
   ]
  },
  {
   "cell_type": "markdown",
   "id": "7ff02f2b-aa91-49dc-9b75-18d8fbfefdef",
   "metadata": {},
   "source": [
    "# Find the Largest Number in a List"
   ]
  },
  {
   "cell_type": "markdown",
   "id": "538fd769-cc72-470f-9cdc-93faee6a28bb",
   "metadata": {},
   "source": [
    "# Write a Python program that finds the largest number in a list of integers using a for loop.\n",
    "Example:\n",
    "\n",
    "Input: [5, 1, 9, 3, 7]"
   ]
  },
  {
   "cell_type": "code",
   "execution_count": 15,
   "id": "74bc0690-6961-43bd-b7a3-5b866f7bc425",
   "metadata": {},
   "outputs": [],
   "source": [
    "Input=[5, 1, 9, 3, 7]"
   ]
  },
  {
   "cell_type": "code",
   "execution_count": 16,
   "id": "97d366c7-9b4f-4f2d-8695-7ababfd6d4d8",
   "metadata": {},
   "outputs": [],
   "source": [
    "Largest=0"
   ]
  },
  {
   "cell_type": "code",
   "execution_count": 18,
   "id": "120d6687-4ac1-4da6-83aa-5b15e084c55f",
   "metadata": {},
   "outputs": [],
   "source": [
    "for i in Input:\n",
    "    if i>Largest:\n",
    "     Largest=i"
   ]
  },
  {
   "cell_type": "code",
   "execution_count": 19,
   "id": "49637d75-3997-4f3f-b4da-1b3c14f9a134",
   "metadata": {},
   "outputs": [
    {
     "data": {
      "text/plain": [
       "9"
      ]
     },
     "execution_count": 19,
     "metadata": {},
     "output_type": "execute_result"
    }
   ],
   "source": [
    "Largest"
   ]
  },
  {
   "cell_type": "markdown",
   "id": "499aa068-659d-4107-b82e-2f25106c592f",
   "metadata": {},
   "source": [
    "# Count Vowels in a String\n",
    "Problem: Create a Python function that counts the number of vowels (a, e, i, o, u) in a given string using a for loop. Ignore case sensitivity.\n",
    "Example:"
   ]
  },
  {
   "cell_type": "code",
   "execution_count": 20,
   "id": "6cfe275e-53f4-4920-aaa0-bd4d0d6710ca",
   "metadata": {},
   "outputs": [],
   "source": [
    "Input=\"Hello world\""
   ]
  },
  {
   "cell_type": "code",
   "execution_count": 28,
   "id": "fa875191-af2f-427a-833a-83f2fa8ace45",
   "metadata": {},
   "outputs": [],
   "source": [
    "Vowels=[\"aeiouAEIOU\"]\n",
    "count=0"
   ]
  },
  {
   "cell_type": "code",
   "execution_count": 31,
   "id": "da09a7bc-3d44-4e62-9024-b9570ea17b3e",
   "metadata": {},
   "outputs": [],
   "source": [
    "for i in Input:\n",
    "    if i in Vowels:\n",
    "     count+=1"
   ]
  },
  {
   "cell_type": "code",
   "execution_count": 32,
   "id": "2135d90a-f590-43d7-ae82-50b1835e28d6",
   "metadata": {},
   "outputs": [
    {
     "data": {
      "text/plain": [
       "3"
      ]
     },
     "execution_count": 32,
     "metadata": {},
     "output_type": "execute_result"
    }
   ],
   "source": [
    "count"
   ]
  },
  {
   "cell_type": "markdown",
   "id": "0e5bc6d2-1d4a-47ba-ab9e-bfcf0a9338cd",
   "metadata": {},
   "source": [
    "# 3. Print Multiplication Table\n",
    "Problem: Write a Python program that prints the multiplication table of a given number up to 10 using a for loop."
   ]
  },
  {
   "cell_type": "code",
   "execution_count": 53,
   "id": "ad634305-3bed-4f4c-8976-b2d9188e838b",
   "metadata": {},
   "outputs": [],
   "source": [
    "Input=[5]"
   ]
  },
  {
   "cell_type": "code",
   "execution_count": 55,
   "id": "5a4f4977-829c-4cab-b6af-15473f411537",
   "metadata": {},
   "outputs": [
    {
     "name": "stdout",
     "output_type": "stream",
     "text": [
      "[5] x 1 = [5]\n",
      "[5] x 2 = [5, 5]\n",
      "[5] x 3 = [5, 5, 5]\n",
      "[5] x 4 = [5, 5, 5, 5]\n",
      "[5] x 5 = [5, 5, 5, 5, 5]\n",
      "[5] x 6 = [5, 5, 5, 5, 5, 5]\n",
      "[5] x 7 = [5, 5, 5, 5, 5, 5, 5]\n",
      "[5] x 8 = [5, 5, 5, 5, 5, 5, 5, 5]\n",
      "[5] x 9 = [5, 5, 5, 5, 5, 5, 5, 5, 5]\n"
     ]
    }
   ],
   "source": [
    "for i in range(1,10):\n",
    "     print(f\"{Input} x {i} = {Input*i}\")"
   ]
  },
  {
   "cell_type": "markdown",
   "id": "6a0b010a-4ba4-4e37-a9aa-fe72a5d9b401",
   "metadata": {},
   "source": [
    "# Problem: Write a Python function that reverses a given string using a for loop without using built-in functions like [::-1]."
   ]
  },
  {
   "cell_type": "code",
   "execution_count": 59,
   "id": "dce8a86c-d2a4-40c5-8741-4016b8ad872b",
   "metadata": {},
   "outputs": [],
   "source": [
    "text=(\"Python\")"
   ]
  },
  {
   "cell_type": "code",
   "execution_count": 60,
   "id": "e1640f53-6043-4245-9c49-74d0fb9771bc",
   "metadata": {},
   "outputs": [],
   "source": [
    "reversed_text=\" \" "
   ]
  },
  {
   "cell_type": "code",
   "execution_count": 63,
   "id": "2214e2b4-42b2-42b4-bf16-4a0618afa1ba",
   "metadata": {},
   "outputs": [],
   "source": [
    "for i in text:\n",
    "    reversed_text=i+reversed_text\n",
    "     "
   ]
  },
  {
   "cell_type": "markdown",
   "id": "33c4bae1-58fe-4ac4-8ac3-9f612015d4b2",
   "metadata": {},
   "source": [
    "# 5. Count Occurrences of Each Element in a List\n",
    "Problem: Write a Python program that counts the number of occurrences of each element in a list using a for loop."
   ]
  },
  {
   "cell_type": "code",
   "execution_count": 121,
   "id": "fa939318-e62a-49d5-a1ac-8741a499123f",
   "metadata": {},
   "outputs": [],
   "source": [
    "elements=[1, 2, 2, 3, 3, 3, 4]"
   ]
  },
  {
   "cell_type": "code",
   "execution_count": 123,
   "id": "8e5fd2ad-11c4-4219-90aa-3f5fca98fc89",
   "metadata": {},
   "outputs": [],
   "source": [
    "occurances = {}"
   ]
  },
  {
   "cell_type": "code",
   "execution_count": 133,
   "id": "64d662f8-c989-4592-949d-100a7d43c204",
   "metadata": {},
   "outputs": [],
   "source": [
    "for element in elements:\n",
    "      if element in occurances:\n",
    "            occurances[element] += 1        #Cant solve it \n",
    "else:\n",
    "            occurances[element] = 1"
   ]
  },
  {
   "cell_type": "code",
   "execution_count": 134,
   "id": "2f83f7fb-6f5e-4f6b-b1d3-8ab305ce94c2",
   "metadata": {},
   "outputs": [
    {
     "data": {
      "text/plain": [
       "{4: 1}"
      ]
     },
     "execution_count": 134,
     "metadata": {},
     "output_type": "execute_result"
    }
   ],
   "source": [
    "occurances"
   ]
  },
  {
   "cell_type": "markdown",
   "id": "380dd8cf-5afd-49de-895c-9cc36967e2cb",
   "metadata": {},
   "source": [
    "# 1. Calculate Factorial of a Number\n",
    "Problem: Write a Python program that calculates the factorial of a given positive integer using a for loop.\n",
    "Example:"
   ]
  },
  {
   "cell_type": "code",
   "execution_count": 161,
   "id": "89d73dbe-fb30-4edf-acff-f9a3678edabb",
   "metadata": {},
   "outputs": [
    {
     "name": "stdin",
     "output_type": "stream",
     "text": [
      "Enter the number:  5\n"
     ]
    },
    {
     "name": "stdout",
     "output_type": "stream",
     "text": [
      "factorial of  5  (iterative): "
     ]
    },
    {
     "name": "stdin",
     "output_type": "stream",
     "text": [
      "Enter a number:  6\n"
     ]
    },
    {
     "name": "stdout",
     "output_type": "stream",
     "text": [
      "720\n"
     ]
    }
   ],
   "source": [
    "def iter_factorial(n):\n",
    "    factorial=1\n",
    "    n = input(\"Enter a number: \")\n",
    "    factorial = 1\n",
    "    if int(n) >= 1:\n",
    "        for i in range (1,int(n)+1):\n",
    "            factorial = factorial * i\n",
    "        return factorial\n",
    "  \n",
    "num=int(input(\"Enter the number: \"))\n",
    "\n",
    "print(\"factorial of \",num,\" (iterative): \",end=\"\")\n",
    "print(iter_factorial(num))"
   ]
  },
  {
   "cell_type": "markdown",
   "id": "23b40ede-edcd-4546-aed8-f570936c6e5d",
   "metadata": {},
   "source": [
    "# #Sum of Digits of a Number"
   ]
  },
  {
   "cell_type": "markdown",
   "id": "0785736c-b62a-4890-ae97-3fea31af104e",
   "metadata": {},
   "source": [
    "#Sum of Digits of a Number"
   ]
  },
  {
   "cell_type": "code",
   "execution_count": 187,
   "id": "77b7fa89-c411-4897-a14e-d8dd32078177",
   "metadata": {},
   "outputs": [],
   "source": [
    "Number=[1,2,3,4]"
   ]
  },
  {
   "cell_type": "code",
   "execution_count": 188,
   "id": "bcb63c35-c680-48ff-9f4f-e55005ac985a",
   "metadata": {},
   "outputs": [],
   "source": [
    "sum=0"
   ]
  },
  {
   "cell_type": "code",
   "execution_count": 189,
   "id": "a0fd3421-2eb5-4ab1-b5aa-29a4480202cd",
   "metadata": {},
   "outputs": [],
   "source": [
    "for i in Number:\n",
    "    sum +=i"
   ]
  },
  {
   "cell_type": "code",
   "execution_count": 190,
   "id": "811596eb-f949-45e9-a007-0a22572b5f42",
   "metadata": {},
   "outputs": [
    {
     "data": {
      "text/plain": [
       "10"
      ]
     },
     "execution_count": 190,
     "metadata": {},
     "output_type": "execute_result"
    }
   ],
   "source": [
    "sum"
   ]
  },
  {
   "cell_type": "markdown",
   "id": "4c430b2c-58d8-42cf-a561-133802e909b5",
   "metadata": {},
   "source": [
    "#\n",
    "Finding prime numbers"
   ]
  },
  {
   "cell_type": "code",
   "execution_count": 8,
   "id": "b49651a2-ca34-40d5-a0bf-0738cb3ecb14",
   "metadata": {},
   "outputs": [
    {
     "name": "stdout",
     "output_type": "stream",
     "text": [
      "Prime numbers between 10 and 50: [11, 13, 17, 19, 23, 29, 31, 37, 41, 43, 47]\n"
     ]
    }
   ],
   "source": [
    "def is_prime(num):\n",
    "    if num < 2:\n",
    "        return False\n",
    "    for i in range(2, int(num**0.5) + 1):\n",
    "        if num % i == 0:\n",
    "            return False\n",
    "    return True\n",
    "\n",
    "def find_primes_in_range(start, end):\n",
    "    return [num for num in range(start, end + 1) if is_prime(num)]\n",
    "\n",
    "start = 10\n",
    "end = 50\n",
    "primes = find_primes_in_range(start, end)\n",
    "print(f\"Prime numbers between {start} and {end}: {primes}\")\n",
    "\n"
   ]
  },
  {
   "cell_type": "code",
   "execution_count": 17,
   "id": "af9892f7-20f5-42f0-9526-50072a272823",
   "metadata": {},
   "outputs": [
    {
     "name": "stdout",
     "output_type": "stream",
     "text": [
      "Prime number between 10 to 60 are 10 and 50:[11, 13, 17, 19, 23, 29, 31, 37, 41, 43, 47]\n"
     ]
    }
   ],
   "source": [
    "def prime(num):\n",
    "   if num<2:\n",
    "       return False\n",
    "   for i in range(2,int(num**0.5)+1):\n",
    "        if num%i==0:\n",
    "          return False\n",
    "   return True\n",
    "\n",
    "def prime_number_range(start,end):\n",
    "     return[num for num in range(start,end+1) if prime(num)]\n",
    "start = 10\n",
    "end = 50\n",
    "primes= prime_number_range(start,end)\n",
    "print(f\"Prime number between 10 to 60 are {start} and {end}:{primes}\")"
   ]
  },
  {
   "cell_type": "markdown",
   "id": "cb335808-91e1-4905-8bed-09c6e444b987",
   "metadata": {},
   "source": [
    "bioinformatics, counting the occurrences of each nucleotide (A, T, C, G) in a DNA sequence is a common task. This information is essential for various analyses, including determining the composition and properties of a DNA sequence.\n",
    "\n",
    "Problem:\n",
    "\n",
    "Write a Python program that takes a DNA sequence as input and counts the occurrences of each nucleotide (A, T, C, G) using a for loop.\n",
    "\n",
    "Task:\n",
    "\n",
    "Use a for loop to iterate through each character in the DNA sequence.\n",
    "Count the occurrences of each nucleotide and store the counts.\n",
    "Print the number of each nucleotide (A, T, C, G).\n",
    "Input:dna_sequence = \"ATCGATCGAAAGTCCTG\""
   ]
  },
  {
   "cell_type": "code",
   "execution_count": 20,
   "id": "fbfff7c7-6bc2-4c86-a0e0-a88d90cc34ec",
   "metadata": {},
   "outputs": [
    {
     "name": "stdout",
     "output_type": "stream",
     "text": [
      "A: 5\n",
      "T: 4\n",
      "C: 4\n",
      "G: 4\n"
     ]
    }
   ],
   "source": [
    "def nucleotide_count(dna_sequences):\n",
    "    count={\"A\":0,\"T\":0,\"C\":0,\"G\":0}\n",
    "    for nucleotide in dna_sequences:\n",
    "      if nucleotide in count:\n",
    "        count[nucleotide] += 1\n",
    "        \n",
    "    for nucleotide, count in count.items():\n",
    "        print(f\"{nucleotide}: {count}\")\n",
    "\n",
    "\n",
    "dna_sequence = \"ATCGATCGAAAGTCCTG\"\n",
    "nucleotide_count(dna_sequence)\n"
   ]
  },
  {
   "cell_type": "code",
   "execution_count": 21,
   "id": "7fc107c7-09da-41ed-ab25-a35a9e512666",
   "metadata": {},
   "outputs": [],
   "source": [
    "name=[\"Disha\",\"Subho\",\"Yogitha\"]"
   ]
  },
  {
   "cell_type": "code",
   "execution_count": 22,
   "id": "81f2d02b-1d65-4527-8529-a12a9f499130",
   "metadata": {},
   "outputs": [
    {
     "name": "stdout",
     "output_type": "stream",
     "text": [
      "PresentDisha\n",
      "Do it yourself\n",
      "Do it yourself\n"
     ]
    }
   ],
   "source": [
    "for items in name:\n",
    "    if items == \"Disha\":\n",
    "     print(\"Present\"+items)\n",
    "    elif items== \"Yugh\":\n",
    "     print(\"absent\"+items)\n",
    "    else:\n",
    "     print(\"Do it yourself\")"
   ]
  },
  {
   "cell_type": "code",
   "execution_count": 23,
   "id": "121bab7e-49b7-43e3-913c-833364a9e4e9",
   "metadata": {},
   "outputs": [
    {
     "name": "stdout",
     "output_type": "stream",
     "text": [
      "PresentDisha\n",
      "Do it yourself\n"
     ]
    }
   ],
   "source": [
    "for items in name:\n",
    "    if items == \"Disha\":\n",
    "     print(\"Present\"+items)\n",
    "    elif items== \"Yugh\":\n",
    "     print(\"absent\"+items)\n",
    "    else:\n",
    "     print(\"Do it yourself\")\n",
    "     break"
   ]
  },
  {
   "cell_type": "code",
   "execution_count": 24,
   "id": "4806b05b-4713-475f-afe1-4bf6ea8cb496",
   "metadata": {},
   "outputs": [
    {
     "name": "stdout",
     "output_type": "stream",
     "text": [
      "PresentDisha\n",
      "Do it yourself\n"
     ]
    }
   ],
   "source": [
    "for items in name:\n",
    "    if items == \"Disha\":\n",
    "     print(\"Present\"+items)\n",
    "     continue\n",
    "    elif items== \"Yugh\":\n",
    "     print(\"absent\"+items)\n",
    "     break\n",
    "    else:\n",
    "     print(\"Do it yourself\")\n",
    "     break"
   ]
  },
  {
   "cell_type": "code",
   "execution_count": null,
   "id": "5bef074a-bad1-452f-a0ef-0d25a97bb13a",
   "metadata": {},
   "outputs": [],
   "source": []
  }
 ],
 "metadata": {
  "kernelspec": {
   "display_name": "Python 3 (ipykernel)",
   "language": "python",
   "name": "python3"
  },
  "language_info": {
   "codemirror_mode": {
    "name": "ipython",
    "version": 3
   },
   "file_extension": ".py",
   "mimetype": "text/x-python",
   "name": "python",
   "nbconvert_exporter": "python",
   "pygments_lexer": "ipython3",
   "version": "3.12.4"
  }
 },
 "nbformat": 4,
 "nbformat_minor": 5
}
