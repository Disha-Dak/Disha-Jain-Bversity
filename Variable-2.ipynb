{
 "cells": [
  {
   "cell_type": "code",
   "execution_count": 2,
   "id": "0254d625-8623-41b9-9724-efb86892a2a8",
   "metadata": {},
   "outputs": [],
   "source": [
    "a=1"
   ]
  },
  {
   "cell_type": "code",
   "execution_count": 3,
   "id": "dd2b622c-dc8c-440e-94ae-df11a487b59d",
   "metadata": {},
   "outputs": [
    {
     "data": {
      "text/plain": [
       "1"
      ]
     },
     "execution_count": 3,
     "metadata": {},
     "output_type": "execute_result"
    }
   ],
   "source": [
    "a"
   ]
  },
  {
   "cell_type": "code",
   "execution_count": null,
   "id": "09822cdc-e2cb-4d29-ba20-367e0477091c",
   "metadata": {},
   "outputs": [],
   "source": []
  },
  {
   "cell_type": "code",
   "execution_count": 8,
   "id": "d53a4097-0a02-4a80-b027-2fe124ef526d",
   "metadata": {},
   "outputs": [],
   "source": [
    "b=2"
   ]
  },
  {
   "cell_type": "code",
   "execution_count": 9,
   "id": "1864420a-91b0-460a-a63d-427caf333630",
   "metadata": {},
   "outputs": [
    {
     "data": {
      "text/plain": [
       "2"
      ]
     },
     "execution_count": 9,
     "metadata": {},
     "output_type": "execute_result"
    }
   ],
   "source": [
    "b"
   ]
  },
  {
   "cell_type": "code",
   "execution_count": 2,
   "id": "f7f3ecc1-e6a5-459f-b569-70149ba5c2f6",
   "metadata": {},
   "outputs": [
    {
     "data": {
      "text/plain": [
       "1.0"
      ]
     },
     "execution_count": 2,
     "metadata": {},
     "output_type": "execute_result"
    }
   ],
   "source": [
    "a"
   ]
  },
  {
   "cell_type": "code",
   "execution_count": 3,
   "id": "26e6d993-74c5-4b51-a7e2-17cd928973b2",
   "metadata": {},
   "outputs": [
    {
     "data": {
      "text/plain": [
       "1.0"
      ]
     },
     "execution_count": 3,
     "metadata": {},
     "output_type": "execute_result"
    }
   ],
   "source": [
    "a"
   ]
  },
  {
   "cell_type": "code",
   "execution_count": 12,
   "id": "aced0c7a-e9d4-4ee7-95bf-b7e88078aae2",
   "metadata": {},
   "outputs": [],
   "source": [
    "a=\"hello\""
   ]
  },
  {
   "cell_type": "code",
   "execution_count": 13,
   "id": "6afef1e0-2ac6-4796-9919-8c5c94706213",
   "metadata": {},
   "outputs": [
    {
     "data": {
      "text/plain": [
       "'hello'"
      ]
     },
     "execution_count": 13,
     "metadata": {},
     "output_type": "execute_result"
    }
   ],
   "source": [
    "a"
   ]
  },
  {
   "cell_type": "code",
   "execution_count": 14,
   "id": "65413f6a-dc43-4220-9331-441bf357ac7c",
   "metadata": {},
   "outputs": [],
   "source": [
    "a=2"
   ]
  },
  {
   "cell_type": "code",
   "execution_count": 10,
   "id": "9d6653cf-e933-425d-bb3b-0031c6f7b297",
   "metadata": {},
   "outputs": [
    {
     "data": {
      "text/plain": [
       "1.0"
      ]
     },
     "execution_count": 10,
     "metadata": {},
     "output_type": "execute_result"
    }
   ],
   "source": [
    "a"
   ]
  },
  {
   "cell_type": "code",
   "execution_count": 11,
   "id": "b375a6ea-7523-45c0-995d-8128551b69b1",
   "metadata": {},
   "outputs": [],
   "source": [
    "b=2"
   ]
  },
  {
   "cell_type": "code",
   "execution_count": 12,
   "id": "90ed71b7-5147-461e-856d-e7324e16260f",
   "metadata": {},
   "outputs": [
    {
     "data": {
      "text/plain": [
       "2"
      ]
     },
     "execution_count": 12,
     "metadata": {},
     "output_type": "execute_result"
    }
   ],
   "source": [
    "b"
   ]
  },
  {
   "cell_type": "code",
   "execution_count": 13,
   "id": "f8feae20-9755-416c-b051-aa811b8ef420",
   "metadata": {},
   "outputs": [],
   "source": [
    "i=a+b"
   ]
  },
  {
   "cell_type": "code",
   "execution_count": 14,
   "id": "85241c83-c1c4-4b9f-9d5d-76878b91d58d",
   "metadata": {},
   "outputs": [
    {
     "data": {
      "text/plain": [
       "3.0"
      ]
     },
     "execution_count": 14,
     "metadata": {},
     "output_type": "execute_result"
    }
   ],
   "source": [
    "i"
   ]
  },
  {
   "cell_type": "code",
   "execution_count": 15,
   "id": "9a08420c-fe79-431d-9220-53a7b3945348",
   "metadata": {},
   "outputs": [],
   "source": [
    "i=a*b"
   ]
  },
  {
   "cell_type": "code",
   "execution_count": 21,
   "id": "946d9713-dac3-4e97-b95f-926753f18208",
   "metadata": {},
   "outputs": [
    {
     "data": {
      "text/plain": [
       "4"
      ]
     },
     "execution_count": 21,
     "metadata": {},
     "output_type": "execute_result"
    }
   ],
   "source": [
    "i"
   ]
  },
  {
   "cell_type": "code",
   "execution_count": 16,
   "id": "4e6451ca-fdac-47d7-a064-b8c4c806e6db",
   "metadata": {},
   "outputs": [
    {
     "data": {
      "text/plain": [
       "float"
      ]
     },
     "execution_count": 16,
     "metadata": {},
     "output_type": "execute_result"
    }
   ],
   "source": [
    "type(a)"
   ]
  },
  {
   "cell_type": "code",
   "execution_count": 17,
   "id": "07e2b4da-87d2-4cd8-8771-5aba2f4830d1",
   "metadata": {},
   "outputs": [
    {
     "data": {
      "text/plain": [
       "int"
      ]
     },
     "execution_count": 17,
     "metadata": {},
     "output_type": "execute_result"
    }
   ],
   "source": [
    "type(b)"
   ]
  },
  {
   "cell_type": "code",
   "execution_count": 18,
   "id": "534faa09-5cc6-458d-8256-3050957d1f83",
   "metadata": {},
   "outputs": [
    {
     "data": {
      "text/plain": [
       "float"
      ]
     },
     "execution_count": 18,
     "metadata": {},
     "output_type": "execute_result"
    }
   ],
   "source": [
    "type(i)"
   ]
  },
  {
   "cell_type": "code",
   "execution_count": 25,
   "id": "80ffa1ee-4656-426d-8ba5-cd5f9ad82cdb",
   "metadata": {},
   "outputs": [],
   "source": [
    "a=1.0"
   ]
  },
  {
   "cell_type": "code",
   "execution_count": 26,
   "id": "cb045630-ea9a-4012-8bc3-18b9424cbf12",
   "metadata": {},
   "outputs": [
    {
     "data": {
      "text/plain": [
       "float"
      ]
     },
     "execution_count": 26,
     "metadata": {},
     "output_type": "execute_result"
    }
   ],
   "source": [
    "type(a)"
   ]
  },
  {
   "cell_type": "code",
   "execution_count": 27,
   "id": "43cf6b12-6d50-42be-b91a-af986a261217",
   "metadata": {},
   "outputs": [],
   "source": [
    "a=\"ho\""
   ]
  },
  {
   "cell_type": "code",
   "execution_count": 19,
   "id": "7dcddd7b-4a9e-4f7b-8d1e-53e4084a9c5d",
   "metadata": {},
   "outputs": [
    {
     "data": {
      "text/plain": [
       "float"
      ]
     },
     "execution_count": 19,
     "metadata": {},
     "output_type": "execute_result"
    }
   ],
   "source": [
    "type(a)"
   ]
  },
  {
   "cell_type": "code",
   "execution_count": 21,
   "id": "9baa2803-3016-496f-bb4b-e154657a30d3",
   "metadata": {},
   "outputs": [],
   "source": [
    "b=True"
   ]
  },
  {
   "cell_type": "code",
   "execution_count": 32,
   "id": "2ae21325-fb82-4470-82c7-848dd64629fb",
   "metadata": {},
   "outputs": [
    {
     "data": {
      "text/plain": [
       "bool"
      ]
     },
     "execution_count": 32,
     "metadata": {},
     "output_type": "execute_result"
    }
   ],
   "source": [
    "type(b)"
   ]
  },
  {
   "cell_type": "markdown",
   "id": "2bf39102-ab19-482f-a2e9-36e3acc5daac",
   "metadata": {},
   "source": [
    "# Converstion of data"
   ]
  },
  {
   "cell_type": "code",
   "execution_count": 33,
   "id": "64b1a99b-7621-457b-b4a8-9a255f5aebe0",
   "metadata": {},
   "outputs": [
    {
     "data": {
      "text/plain": [
       "str"
      ]
     },
     "execution_count": 33,
     "metadata": {},
     "output_type": "execute_result"
    }
   ],
   "source": [
    "type(a)"
   ]
  },
  {
   "cell_type": "code",
   "execution_count": 34,
   "id": "246b631f-a3ba-43f3-901e-c7c3f74bbba1",
   "metadata": {},
   "outputs": [],
   "source": [
    "a=2"
   ]
  },
  {
   "cell_type": "code",
   "execution_count": 35,
   "id": "51936d3f-088c-4da9-be85-0f1bacd7bd99",
   "metadata": {},
   "outputs": [
    {
     "data": {
      "text/plain": [
       "2"
      ]
     },
     "execution_count": 35,
     "metadata": {},
     "output_type": "execute_result"
    }
   ],
   "source": [
    "a"
   ]
  },
  {
   "cell_type": "code",
   "execution_count": 36,
   "id": "d5108aca-e523-4135-a621-74267af5a61c",
   "metadata": {},
   "outputs": [
    {
     "data": {
      "text/plain": [
       "int"
      ]
     },
     "execution_count": 36,
     "metadata": {},
     "output_type": "execute_result"
    }
   ],
   "source": [
    "type(a)"
   ]
  },
  {
   "cell_type": "code",
   "execution_count": 37,
   "id": "9d9b6a22-8572-466c-a5f7-bf8b1c8d6926",
   "metadata": {},
   "outputs": [
    {
     "data": {
      "text/plain": [
       "2.0"
      ]
     },
     "execution_count": 37,
     "metadata": {},
     "output_type": "execute_result"
    }
   ],
   "source": [
    "float(a)"
   ]
  },
  {
   "cell_type": "code",
   "execution_count": 38,
   "id": "2f472120-f3da-4f6d-9695-16fec3701ffb",
   "metadata": {},
   "outputs": [
    {
     "data": {
      "text/plain": [
       "True"
      ]
     },
     "execution_count": 38,
     "metadata": {},
     "output_type": "execute_result"
    }
   ],
   "source": [
    "bool(a)"
   ]
  },
  {
   "cell_type": "code",
   "execution_count": 39,
   "id": "5f9ec2c6-aeac-43ef-8d75-6b6ab38b269a",
   "metadata": {},
   "outputs": [
    {
     "data": {
      "text/plain": [
       "int"
      ]
     },
     "execution_count": 39,
     "metadata": {},
     "output_type": "execute_result"
    }
   ],
   "source": [
    "type(int(float(a)))"
   ]
  },
  {
   "cell_type": "code",
   "execution_count": 22,
   "id": "c7ef506a-0e12-4e9d-9c2f-0b33b0fd341b",
   "metadata": {},
   "outputs": [],
   "source": [
    "patinet_age=42"
   ]
  },
  {
   "cell_type": "code",
   "execution_count": 25,
   "id": "ed9489b0-e990-419a-8e7b-d5e62fed221c",
   "metadata": {},
   "outputs": [],
   "source": [
    "patinet_age=23"
   ]
  },
  {
   "cell_type": "code",
   "execution_count": 42,
   "id": "ff847a76-e6b7-4acd-8d15-2bd3772d1610",
   "metadata": {},
   "outputs": [],
   "source": [
    "Road=100"
   ]
  },
  {
   "cell_type": "code",
   "execution_count": 44,
   "id": "0541a6e7-87e0-4011-9f2b-65187d9e25f9",
   "metadata": {},
   "outputs": [
    {
     "data": {
      "text/plain": [
       "'100km'"
      ]
     },
     "execution_count": 44,
     "metadata": {},
     "output_type": "execute_result"
    }
   ],
   "source": [
    "str(Road)+\"km\""
   ]
  },
  {
   "cell_type": "markdown",
   "id": "0e0c5e78-2f1b-41b0-be62-4898a9bccbe6",
   "metadata": {},
   "source": [
    "# Self_practice_Variables"
   ]
  },
  {
   "cell_type": "code",
   "execution_count": 27,
   "id": "ec9ea9c6-4aff-424c-aafc-b12fde90deb0",
   "metadata": {},
   "outputs": [
    {
     "name": "stdout",
     "output_type": "stream",
     "text": [
      "10\n"
     ]
    }
   ],
   "source": [
    "x = 10\n",
    "print(x)"
   ]
  },
  {
   "cell_type": "code",
   "execution_count": 28,
   "id": "c8f45173-e911-4509-9103-7167182e4f9b",
   "metadata": {},
   "outputs": [
    {
     "name": "stdout",
     "output_type": "stream",
     "text": [
      "John\n"
     ]
    }
   ],
   "source": [
    "y = \"John\"\n",
    "print(y)"
   ]
  },
  {
   "cell_type": "code",
   "execution_count": 30,
   "id": "a3c26aed-eeec-47d5-a3bb-731f56cab6f1",
   "metadata": {},
   "outputs": [
    {
     "name": "stdout",
     "output_type": "stream",
     "text": [
      "Disha\n"
     ]
    }
   ],
   "source": [
    "x = 4       \n",
    "x = \"Disha\"   #A variable can be changed, it is not fixed.It is necessary to define a varible always.\n",
    "print(x)"
   ]
  },
  {
   "cell_type": "code",
   "execution_count": 31,
   "id": "473e8e66-6879-4b94-a169-7cc5bbacd952",
   "metadata": {},
   "outputs": [],
   "source": [
    "a=1"
   ]
  },
  {
   "cell_type": "code",
   "execution_count": 32,
   "id": "b0fa399e-a9c7-4298-be3c-2cfadaf5d83a",
   "metadata": {},
   "outputs": [
    {
     "data": {
      "text/plain": [
       "1"
      ]
     },
     "execution_count": 32,
     "metadata": {},
     "output_type": "execute_result"
    }
   ],
   "source": [
    "a"
   ]
  },
  {
   "cell_type": "code",
   "execution_count": 35,
   "id": "e502f0c2-e02a-4089-95e4-368b3148017a",
   "metadata": {},
   "outputs": [
    {
     "data": {
      "text/plain": [
       "int"
      ]
     },
     "execution_count": 35,
     "metadata": {},
     "output_type": "execute_result"
    }
   ],
   "source": [
    "type(a)  #Type helps us to undertand what kind of varibale it is "
   ]
  },
  {
   "cell_type": "code",
   "execution_count": 36,
   "id": "5b9f0bda-687a-4171-beee-f055e691e7ee",
   "metadata": {},
   "outputs": [],
   "source": [
    "x=\"Disha\""
   ]
  },
  {
   "cell_type": "code",
   "execution_count": 38,
   "id": "f79283f2-8860-46c8-a22f-f62d7427e53b",
   "metadata": {},
   "outputs": [
    {
     "data": {
      "text/plain": [
       "str"
      ]
     },
     "execution_count": 38,
     "metadata": {},
     "output_type": "execute_result"
    }
   ],
   "source": [
    "type(x)"
   ]
  },
  {
   "cell_type": "code",
   "execution_count": 39,
   "id": "f70b6caa-81f1-42b0-b5b5-bba28a872cc2",
   "metadata": {},
   "outputs": [],
   "source": [
    "x = str(4)    # x will be '4'\n",
    "y = int(3)    # y will be 3\n",
    "z = float(3)  # z will be 3.0"
   ]
  },
  {
   "cell_type": "code",
   "execution_count": 40,
   "id": "a318b6f1-49e0-4ffd-8a1a-45afc345c824",
   "metadata": {},
   "outputs": [
    {
     "data": {
      "text/plain": [
       "str"
      ]
     },
     "execution_count": 40,
     "metadata": {},
     "output_type": "execute_result"
    }
   ],
   "source": [
    "type(x)"
   ]
  },
  {
   "cell_type": "code",
   "execution_count": 41,
   "id": "c1d8a333-608c-495c-a634-f1db76aa4b8f",
   "metadata": {},
   "outputs": [
    {
     "data": {
      "text/plain": [
       "int"
      ]
     },
     "execution_count": 41,
     "metadata": {},
     "output_type": "execute_result"
    }
   ],
   "source": [
    "type(y)"
   ]
  },
  {
   "cell_type": "code",
   "execution_count": 42,
   "id": "9955fba7-bcba-4b80-898e-36418c1e933f",
   "metadata": {},
   "outputs": [
    {
     "data": {
      "text/plain": [
       "float"
      ]
     },
     "execution_count": 42,
     "metadata": {},
     "output_type": "execute_result"
    }
   ],
   "source": [
    "type(z)"
   ]
  },
  {
   "cell_type": "code",
   "execution_count": 44,
   "id": "005ba406-af7a-4088-9252-432d5b233fed",
   "metadata": {},
   "outputs": [
    {
     "data": {
      "text/plain": [
       "3.0"
      ]
     },
     "execution_count": 44,
     "metadata": {},
     "output_type": "execute_result"
    }
   ],
   "source": [
    "z"
   ]
  },
  {
   "cell_type": "code",
   "execution_count": 45,
   "id": "c3c02753-5f71-4157-9e50-b3473f570269",
   "metadata": {},
   "outputs": [
    {
     "name": "stdout",
     "output_type": "stream",
     "text": [
      "<class 'int'>\n",
      "<class 'str'>\n"
     ]
    }
   ],
   "source": [
    "x = 5\n",
    "y = \"Disha\"\n",
    "print(type(x))\n",
    "print(type(y))"
   ]
  },
  {
   "cell_type": "code",
   "execution_count": 47,
   "id": "69155360-b170-4c41-9bdb-d3851123c352",
   "metadata": {},
   "outputs": [],
   "source": [
    "#Variable names are case sensitive"
   ]
  },
  {
   "cell_type": "markdown",
   "id": "54d0b32a-9f25-4adc-be3f-d7de5c1a4d29",
   "metadata": {},
   "source": [
    "#Boolean"
   ]
  },
  {
   "cell_type": "code",
   "execution_count": 48,
   "id": "d651f0ef-523d-44ae-9abe-23aa7f4d0ff9",
   "metadata": {},
   "outputs": [],
   "source": [
    "a=True"
   ]
  },
  {
   "cell_type": "code",
   "execution_count": 49,
   "id": "a923b8ad-7789-4beb-887b-f25e45b63212",
   "metadata": {},
   "outputs": [
    {
     "data": {
      "text/plain": [
       "bool"
      ]
     },
     "execution_count": 49,
     "metadata": {},
     "output_type": "execute_result"
    }
   ],
   "source": [
    "type(a)"
   ]
  },
  {
   "cell_type": "markdown",
   "id": "d1cd81de-2ecc-411f-ae5b-bd48403cfb6e",
   "metadata": {},
   "source": [
    "#Variable name-Camel case(myVariableName) and pascal case(MyVariableName) and snake case(my_Variable_Name) "
   ]
  },
  {
   "cell_type": "markdown",
   "id": "c78f77d8-ba6f-488e-8171-5ed92ec80a2a",
   "metadata": {},
   "source": [
    "#Mutiple variable"
   ]
  },
  {
   "cell_type": "code",
   "execution_count": 51,
   "id": "6a0a308c-5277-4daa-8853-eb38c5f7aaa4",
   "metadata": {},
   "outputs": [
    {
     "name": "stdout",
     "output_type": "stream",
     "text": [
      "Apple\n",
      "Banana\n",
      "Orange\n"
     ]
    }
   ],
   "source": [
    "x,y,z=\"Apple\",\"Banana\",\"Orange\"\n",
    "print(x)\n",
    "print(y)\n",
    "print(z)"
   ]
  },
  {
   "cell_type": "code",
   "execution_count": 53,
   "id": "67160cec-2ac2-4f25-8dc4-01e195e53cf2",
   "metadata": {},
   "outputs": [
    {
     "name": "stdout",
     "output_type": "stream",
     "text": [
      "Orange Orange Orange\n"
     ]
    }
   ],
   "source": [
    "x=y=z=\"Orange\"\n",
    "print(x,y,z)"
   ]
  },
  {
   "cell_type": "markdown",
   "id": "1e9980ce-2dfa-4a11-9ccf-8192dde2829b",
   "metadata": {},
   "source": [
    "#Unmarking a list of variable"
   ]
  },
  {
   "cell_type": "code",
   "execution_count": 54,
   "id": "5277097a-c06a-4d3b-91fe-5b100c2e9459",
   "metadata": {},
   "outputs": [
    {
     "name": "stdout",
     "output_type": "stream",
     "text": [
      "apple\n",
      "banana\n",
      "cherry\n"
     ]
    }
   ],
   "source": [
    "fruits = [\"apple\", \"banana\", \"cherry\"]\n",
    "x, y, z = fruits\n",
    "print(x)\n",
    "print(y)\n",
    "print(z)"
   ]
  },
  {
   "cell_type": "code",
   "execution_count": 56,
   "id": "60270da9-07ce-4590-ae4b-9cab08d5b1c7",
   "metadata": {},
   "outputs": [
    {
     "name": "stdout",
     "output_type": "stream",
     "text": [
      "Disha\n",
      "Khuski\n",
      "Mohit\n"
     ]
    }
   ],
   "source": [
    "Name=[\"Disha\",\"Khuski\",\"Mohit\"]\n",
    "a,b,c= Name\n",
    "print(a)\n",
    "print(b)\n",
    "print(c)"
   ]
  },
  {
   "cell_type": "code",
   "execution_count": 58,
   "id": "b7f4c046-9e2d-4733-8348-0d3976eae33b",
   "metadata": {},
   "outputs": [
    {
     "name": "stdout",
     "output_type": "stream",
     "text": [
      "Hello World\n"
     ]
    }
   ],
   "source": [
    "print('Hello', 'World')"
   ]
  },
  {
   "cell_type": "markdown",
   "id": "c8460369-6e81-4edb-aa28-5a4af2db670f",
   "metadata": {},
   "source": [
    "#output variables"
   ]
  },
  {
   "cell_type": "code",
   "execution_count": 59,
   "id": "c69b5936-430c-4620-b2a5-894d63ca6735",
   "metadata": {},
   "outputs": [
    {
     "name": "stdout",
     "output_type": "stream",
     "text": [
      "Hello World\n"
     ]
    }
   ],
   "source": [
    "print('Hello', 'World')"
   ]
  },
  {
   "cell_type": "code",
   "execution_count": 60,
   "id": "852d08aa-5b6d-439c-af43-ff97f37f1b37",
   "metadata": {},
   "outputs": [
    {
     "name": "stdout",
     "output_type": "stream",
     "text": [
      "python is Awesome\n"
     ]
    }
   ],
   "source": [
    "x=\"python\"            #\",\" adds as a space\n",
    "y=\"is\" \n",
    "z=\"Awesome\"\n",
    "print(x,y,z)"
   ]
  },
  {
   "cell_type": "code",
   "execution_count": 61,
   "id": "b050c2dc-e7f3-4262-971e-eca504000fa7",
   "metadata": {},
   "outputs": [
    {
     "name": "stdout",
     "output_type": "stream",
     "text": [
      "pythonisAwesome\n"
     ]
    }
   ],
   "source": [
    "x=\"python\"\n",
    "y=\"is\"\n",
    "z=\"Awesome\"\n",
    "print(x+y+z)"
   ]
  },
  {
   "cell_type": "code",
   "execution_count": 65,
   "id": "c9965f96-fd55-4f4a-92d1-5e612b6b6437",
   "metadata": {},
   "outputs": [
    {
     "name": "stdout",
     "output_type": "stream",
     "text": [
      "python is Awesome\n"
     ]
    }
   ],
   "source": [
    "x=\"python \"             #after python, there is space\"\n",
    "y=\"is \"\n",
    "z=\"Awesome\"\n",
    "print(x +y + z)"
   ]
  },
  {
   "cell_type": "code",
   "execution_count": 66,
   "id": "de87962f-e133-4073-86ae-d4dadd863c69",
   "metadata": {},
   "outputs": [],
   "source": [
    "#Can not mix a string and integer/float in a output variable in the same command"
   ]
  },
  {
   "cell_type": "code",
   "execution_count": 67,
   "id": "4d31dd87-4042-4fb2-9908-3d90c3044358",
   "metadata": {},
   "outputs": [
    {
     "ename": "TypeError",
     "evalue": "can only concatenate str (not \"int\") to str",
     "output_type": "error",
     "traceback": [
      "\u001b[0;31m---------------------------------------------------------------------------\u001b[0m",
      "\u001b[0;31mTypeError\u001b[0m                                 Traceback (most recent call last)",
      "Cell \u001b[0;32mIn[67], line 3\u001b[0m\n\u001b[1;32m      1\u001b[0m x\u001b[38;5;241m=\u001b[39m\u001b[38;5;124m\"\u001b[39m\u001b[38;5;124mDisha\u001b[39m\u001b[38;5;124m\"\u001b[39m\n\u001b[1;32m      2\u001b[0m y\u001b[38;5;241m=\u001b[39m\u001b[38;5;241m5\u001b[39m\n\u001b[0;32m----> 3\u001b[0m \u001b[38;5;28mprint\u001b[39m(\u001b[43mx\u001b[49m\u001b[38;5;241;43m+\u001b[39;49m\u001b[43my\u001b[49m)\n",
      "\u001b[0;31mTypeError\u001b[0m: can only concatenate str (not \"int\") to str"
     ]
    }
   ],
   "source": [
    "x=\"Disha\"\n",
    "y=5\n",
    "print(x+y)"
   ]
  },
  {
   "cell_type": "markdown",
   "id": "e75e62ff-d3e0-473b-a889-d144d9e21fbc",
   "metadata": {},
   "source": [
    "#Global variable"
   ]
  },
  {
   "cell_type": "code",
   "execution_count": 68,
   "id": "8c344e7b-621d-49d0-90f8-3e1422917f1f",
   "metadata": {},
   "outputs": [
    {
     "name": "stdout",
     "output_type": "stream",
     "text": [
      "Python is awesome\n"
     ]
    }
   ],
   "source": [
    "x = \"awesome\"\n",
    "def myfunc():\n",
    "  print(\"Python is \" + x)\n",
    "\n",
    "myfunc()"
   ]
  },
  {
   "cell_type": "code",
   "execution_count": 69,
   "id": "00e4b85f-ae98-45d4-9b71-af1de60613e4",
   "metadata": {},
   "outputs": [
    {
     "name": "stdout",
     "output_type": "stream",
     "text": [
      "Python is Fantastic\n"
     ]
    }
   ],
   "source": [
    "x=\"Fantastic\"\n",
    "print(\"Python is \" + x)"
   ]
  },
  {
   "cell_type": "code",
   "execution_count": 70,
   "id": "ae27792e-f7d8-4515-8751-87ac9c7beb54",
   "metadata": {},
   "outputs": [
    {
     "name": "stdout",
     "output_type": "stream",
     "text": [
      "Python is awesome\n"
     ]
    }
   ],
   "source": [
    "x = 'awesome'\n",
    "def myfunc():\n",
    "  x = 'fantastic'\n",
    "myfunc()\n",
    "print('Python is ' + x)"
   ]
  },
  {
   "cell_type": "code",
   "execution_count": 71,
   "id": "d2f909d4-0237-4edb-8630-356af23abcf3",
   "metadata": {},
   "outputs": [
    {
     "name": "stdout",
     "output_type": "stream",
     "text": [
      "Python is fantastic\n"
     ]
    }
   ],
   "source": [
    "x = 'awesome'\n",
    "def myfunc():           #Changing a global variable by using global function\n",
    "  global x\n",
    "  x = 'fantastic'\n",
    "myfunc()\n",
    "print('Python is ' + x)"
   ]
  },
  {
   "cell_type": "code",
   "execution_count": 74,
   "id": "ba94dca7-b4b7-4411-a2ef-1b222eeaa06f",
   "metadata": {},
   "outputs": [],
   "source": [
    "x = str(\"Hello World\")"
   ]
  },
  {
   "cell_type": "code",
   "execution_count": 75,
   "id": "5f4c334e-d24e-4dcf-8188-aa3a4b5435cb",
   "metadata": {},
   "outputs": [
    {
     "name": "stdout",
     "output_type": "stream",
     "text": [
      "<class 'str'>\n"
     ]
    }
   ],
   "source": [
    "print(type(x))"
   ]
  },
  {
   "cell_type": "code",
   "execution_count": null,
   "id": "ff0f6ca0-ef92-4301-b6b7-ec3599d97b52",
   "metadata": {},
   "outputs": [],
   "source": []
  }
 ],
 "metadata": {
  "kernelspec": {
   "display_name": "Python 3 (ipykernel)",
   "language": "python",
   "name": "python3"
  },
  "language_info": {
   "codemirror_mode": {
    "name": "ipython",
    "version": 3
   },
   "file_extension": ".py",
   "mimetype": "text/x-python",
   "name": "python",
   "nbconvert_exporter": "python",
   "pygments_lexer": "ipython3",
   "version": "3.12.4"
  }
 },
 "nbformat": 4,
 "nbformat_minor": 5
}
